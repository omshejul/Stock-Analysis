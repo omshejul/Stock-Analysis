{
 "cells": [
  {
   "cell_type": "code",
   "execution_count": 2,
   "metadata": {
    "id": "mgGDo5XuswIw"
   },
   "outputs": [],
   "source": [
    "import pandas as pd\n",
    "from nsepython import *\n",
    "import numpy as np\n",
    "from nsepy import *\n",
    "from datetime import datetime, timedelta"
   ]
  },
  {
   "cell_type": "code",
   "execution_count": 3,
   "metadata": {
    "id": "BzJKN9maiJp_"
   },
   "outputs": [],
   "source": [
    "# Fetch data for Nifty 50\n",
    "nifty_data = nsefetch('https://www.nseindia.com/api/equity-stockIndices?index=SECURITIES%20IN%20F%26O')"
   ]
  },
  {
   "cell_type": "code",
   "execution_count": 4,
   "metadata": {
    "id": "GDJCocWK0_W1"
   },
   "outputs": [],
   "source": [
    "key_list = list(nifty_data.keys())"
   ]
  },
  {
   "cell_type": "code",
   "execution_count": 5,
   "metadata": {
    "colab": {
     "base_uri": "https://localhost:8080/"
    },
    "id": "Vusui9BNhBzC",
    "outputId": "864a2947-e0f1-4909-e37d-12a7b8f03bb2"
   },
   "outputs": [
    {
     "data": {
      "text/plain": [
       "['name',\n",
       " 'advance',\n",
       " 'timestamp',\n",
       " 'data',\n",
       " 'metadata',\n",
       " 'marketStatus',\n",
       " 'date30dAgo',\n",
       " 'date365dAgo']"
      ]
     },
     "execution_count": 5,
     "metadata": {},
     "output_type": "execute_result"
    }
   ],
   "source": [
    "key_list"
   ]
  },
  {
   "cell_type": "code",
   "execution_count": 6,
   "metadata": {
    "id": "f_B23kHN1RLi"
   },
   "outputs": [],
   "source": [
    "df = pd.DataFrame(nifty_data['data'])\n",
    "df = df.drop(0)"
   ]
  },
  {
   "cell_type": "code",
   "execution_count": 7,
   "metadata": {
    "colab": {
     "base_uri": "https://localhost:8080/"
    },
    "id": "wQqcs94ehSsP",
    "outputId": "9623d5b0-3fc4-46e7-e027-1b65d48962e0"
   },
   "outputs": [
    {
     "data": {
      "text/plain": [
       "222"
      ]
     },
     "execution_count": 7,
     "metadata": {},
     "output_type": "execute_result"
    }
   ],
   "source": [
    "len(df)"
   ]
  },
  {
   "cell_type": "code",
   "execution_count": 8,
   "metadata": {
    "colab": {
     "base_uri": "https://localhost:8080/"
    },
    "id": "YOecFLD-8lvI",
    "outputId": "26297f24-d4a3-4b76-d7e4-e3bb970501a5"
   },
   "outputs": [
    {
     "data": {
      "text/plain": [
       "Index(['symbol', 'identifier', 'series', 'open', 'dayHigh', 'dayLow',\n",
       "       'lastPrice', 'previousClose', 'change', 'pChange', 'totalTradedVolume',\n",
       "       'totalTradedValue', 'lastUpdateTime', 'yearHigh', 'yearLow', 'nearWKH',\n",
       "       'nearWKL', 'perChange365d', 'date365dAgo', 'chart365dPath',\n",
       "       'date30dAgo', 'perChange30d', 'chart30dPath', 'chartTodayPath', 'meta'],\n",
       "      dtype='object')"
      ]
     },
     "execution_count": 8,
     "metadata": {},
     "output_type": "execute_result"
    }
   ],
   "source": [
    "df.columns"
   ]
  },
  {
   "cell_type": "code",
   "execution_count": 9,
   "metadata": {
    "colab": {
     "base_uri": "https://localhost:8080/",
     "height": 206
    },
    "id": "5BvGWdvb21hC",
    "outputId": "5680a5af-b3c6-4906-d527-42ccb8801ae2"
   },
   "outputs": [
    {
     "data": {
      "text/html": [
       "<div>\n",
       "<style scoped>\n",
       "    .dataframe tbody tr th:only-of-type {\n",
       "        vertical-align: middle;\n",
       "    }\n",
       "\n",
       "    .dataframe tbody tr th {\n",
       "        vertical-align: top;\n",
       "    }\n",
       "\n",
       "    .dataframe thead th {\n",
       "        text-align: right;\n",
       "    }\n",
       "</style>\n",
       "<table border=\"1\" class=\"dataframe\">\n",
       "  <thead>\n",
       "    <tr style=\"text-align: right;\">\n",
       "      <th></th>\n",
       "      <th>symbol</th>\n",
       "      <th>open</th>\n",
       "      <th>dayHigh</th>\n",
       "      <th>dayLow</th>\n",
       "      <th>yearHigh</th>\n",
       "      <th>yearLow</th>\n",
       "      <th>lastPrice</th>\n",
       "    </tr>\n",
       "  </thead>\n",
       "  <tbody>\n",
       "    <tr>\n",
       "      <th>1</th>\n",
       "      <td>LTIM</td>\n",
       "      <td>5882</td>\n",
       "      <td>6152.8</td>\n",
       "      <td>5882</td>\n",
       "      <td>6767.95</td>\n",
       "      <td>4513.55</td>\n",
       "      <td>6138.8</td>\n",
       "    </tr>\n",
       "    <tr>\n",
       "      <th>2</th>\n",
       "      <td>TECHM</td>\n",
       "      <td>1653.1</td>\n",
       "      <td>1710</td>\n",
       "      <td>1636.3</td>\n",
       "      <td>1807.7</td>\n",
       "      <td>1162.95</td>\n",
       "      <td>1708.7</td>\n",
       "    </tr>\n",
       "    <tr>\n",
       "      <th>3</th>\n",
       "      <td>IRCTC</td>\n",
       "      <td>772.8</td>\n",
       "      <td>800.75</td>\n",
       "      <td>755.3</td>\n",
       "      <td>1138.9</td>\n",
       "      <td>755.3</td>\n",
       "      <td>791.55</td>\n",
       "    </tr>\n",
       "    <tr>\n",
       "      <th>4</th>\n",
       "      <td>WIPRO</td>\n",
       "      <td>294.3</td>\n",
       "      <td>302.75</td>\n",
       "      <td>294.3</td>\n",
       "      <td>320</td>\n",
       "      <td>208.5</td>\n",
       "      <td>302.5</td>\n",
       "    </tr>\n",
       "    <tr>\n",
       "      <th>5</th>\n",
       "      <td>MGL</td>\n",
       "      <td>1295</td>\n",
       "      <td>1312</td>\n",
       "      <td>1240.05</td>\n",
       "      <td>1988</td>\n",
       "      <td>1075.25</td>\n",
       "      <td>1311</td>\n",
       "    </tr>\n",
       "  </tbody>\n",
       "</table>\n",
       "</div>"
      ],
      "text/plain": [
       "  symbol    open dayHigh   dayLow yearHigh  yearLow lastPrice\n",
       "1   LTIM    5882  6152.8     5882  6767.95  4513.55    6138.8\n",
       "2  TECHM  1653.1    1710   1636.3   1807.7  1162.95    1708.7\n",
       "3  IRCTC   772.8  800.75    755.3   1138.9    755.3    791.55\n",
       "4  WIPRO   294.3  302.75    294.3      320    208.5     302.5\n",
       "5    MGL    1295    1312  1240.05     1988  1075.25      1311"
      ]
     },
     "execution_count": 9,
     "metadata": {},
     "output_type": "execute_result"
    }
   ],
   "source": [
    "df_test = df[['symbol','open', 'dayHigh', 'dayLow','yearHigh', 'yearLow','lastPrice']]\n",
    "df_test.head()"
   ]
  },
  {
   "cell_type": "code",
   "execution_count": 10,
   "metadata": {
    "colab": {
     "base_uri": "https://localhost:8080/",
     "height": 80
    },
    "id": "4RR_Kz9SCDrh",
    "outputId": "ad1acb26-96e9-4f73-a21d-b32cda1f9cf5"
   },
   "outputs": [
    {
     "data": {
      "text/html": [
       "<div>\n",
       "<style scoped>\n",
       "    .dataframe tbody tr th:only-of-type {\n",
       "        vertical-align: middle;\n",
       "    }\n",
       "\n",
       "    .dataframe tbody tr th {\n",
       "        vertical-align: top;\n",
       "    }\n",
       "\n",
       "    .dataframe thead th {\n",
       "        text-align: right;\n",
       "    }\n",
       "</style>\n",
       "<table border=\"1\" class=\"dataframe\">\n",
       "  <thead>\n",
       "    <tr style=\"text-align: right;\">\n",
       "      <th></th>\n",
       "      <th>symbol</th>\n",
       "      <th>companyName</th>\n",
       "      <th>industry</th>\n",
       "      <th>isin</th>\n",
       "      <th>slb_isin</th>\n",
       "    </tr>\n",
       "  </thead>\n",
       "  <tbody>\n",
       "    <tr>\n",
       "      <th>0</th>\n",
       "      <td>NESTLEIND</td>\n",
       "      <td>Nestle India Limited</td>\n",
       "      <td>Packaged Foods</td>\n",
       "      <td>INE239A01024</td>\n",
       "      <td>INE239A01024</td>\n",
       "    </tr>\n",
       "  </tbody>\n",
       "</table>\n",
       "</div>"
      ],
      "text/plain": [
       "      symbol           companyName        industry          isin      slb_isin\n",
       "0  NESTLEIND  Nestle India Limited  Packaged Foods  INE239A01024  INE239A01024"
      ]
     },
     "execution_count": 10,
     "metadata": {},
     "output_type": "execute_result"
    }
   ],
   "source": [
    "details_list = []\n",
    "for i in range(1,182):\n",
    "  x = df['meta'][i]\n",
    "  del x['activeSeries']\n",
    "  del x['debtSeries']\n",
    "  del x['tempSuspendedSeries']\n",
    "  del x['isFNOSec']\n",
    "  del x['isCASec']\n",
    "  del x['isSLBSec']\n",
    "  del x['isDebtSec']\n",
    "  del x['isSuspended']\n",
    "  del x['isDelisted']\n",
    "  del x['isETFSec']\n",
    "  del x['quotepreopenstatus']\n",
    "  del x['listingDate']\n",
    "  #del x['slb_isin']\n",
    "  del x['isMunicipalBond']\n",
    "\n",
    "  details_list.append(pd.DataFrame([x]))\n",
    "\n",
    "details_list[24]"
   ]
  },
  {
   "cell_type": "code",
   "execution_count": 11,
   "metadata": {
    "colab": {
     "base_uri": "https://localhost:8080/"
    },
    "id": "I0knOBgkD5X6",
    "outputId": "d2ed8122-05fe-4c02-ff3f-9ca3ed4236d1"
   },
   "outputs": [
    {
     "data": {
      "text/plain": [
       "181"
      ]
     },
     "execution_count": 11,
     "metadata": {},
     "output_type": "execute_result"
    }
   ],
   "source": [
    "len(details_list)"
   ]
  },
  {
   "cell_type": "code",
   "execution_count": 12,
   "metadata": {
    "id": "1NCkoyLs7pnQ"
   },
   "outputs": [],
   "source": [
    "df_details = pd.concat(details_list[:], ignore_index=True)"
   ]
  },
  {
   "cell_type": "code",
   "execution_count": 13,
   "metadata": {
    "colab": {
     "base_uri": "https://localhost:8080/",
     "height": 423
    },
    "id": "A5FnmF6BG-lQ",
    "outputId": "7a30b57e-10a3-4362-d0d9-72b7209ec794"
   },
   "outputs": [
    {
     "data": {
      "text/html": [
       "<div>\n",
       "<style scoped>\n",
       "    .dataframe tbody tr th:only-of-type {\n",
       "        vertical-align: middle;\n",
       "    }\n",
       "\n",
       "    .dataframe tbody tr th {\n",
       "        vertical-align: top;\n",
       "    }\n",
       "\n",
       "    .dataframe thead th {\n",
       "        text-align: right;\n",
       "    }\n",
       "</style>\n",
       "<table border=\"1\" class=\"dataframe\">\n",
       "  <thead>\n",
       "    <tr style=\"text-align: right;\">\n",
       "      <th></th>\n",
       "      <th>symbol</th>\n",
       "      <th>companyName</th>\n",
       "      <th>industry</th>\n",
       "      <th>isin</th>\n",
       "      <th>slb_isin</th>\n",
       "    </tr>\n",
       "  </thead>\n",
       "  <tbody>\n",
       "    <tr>\n",
       "      <th>0</th>\n",
       "      <td>LTIM</td>\n",
       "      <td>LTIMindtree Limited</td>\n",
       "      <td>Computers - Software &amp; Consulting</td>\n",
       "      <td>INE214T01019</td>\n",
       "      <td>INE214T01019</td>\n",
       "    </tr>\n",
       "    <tr>\n",
       "      <th>1</th>\n",
       "      <td>TECHM</td>\n",
       "      <td>Tech Mahindra Limited</td>\n",
       "      <td>Computers - Software &amp; Consulting</td>\n",
       "      <td>INE669C01036</td>\n",
       "      <td>INE669C01036</td>\n",
       "    </tr>\n",
       "    <tr>\n",
       "      <th>2</th>\n",
       "      <td>IRCTC</td>\n",
       "      <td>Indian Railway Catering And Tourism Corporatio...</td>\n",
       "      <td>Tour Travel Related Services</td>\n",
       "      <td>INE335Y01020</td>\n",
       "      <td>INE335Y01020</td>\n",
       "    </tr>\n",
       "    <tr>\n",
       "      <th>3</th>\n",
       "      <td>WIPRO</td>\n",
       "      <td>Wipro Limited</td>\n",
       "      <td>Computers - Software &amp; Consulting</td>\n",
       "      <td>INE075A01022</td>\n",
       "      <td>INE075A01022</td>\n",
       "    </tr>\n",
       "    <tr>\n",
       "      <th>4</th>\n",
       "      <td>MGL</td>\n",
       "      <td>Mahanagar Gas Limited</td>\n",
       "      <td>LPG/CNG/PNG/LNG Supplier</td>\n",
       "      <td>INE002S01010</td>\n",
       "      <td>INE002S01010</td>\n",
       "    </tr>\n",
       "    <tr>\n",
       "      <th>...</th>\n",
       "      <td>...</td>\n",
       "      <td>...</td>\n",
       "      <td>...</td>\n",
       "      <td>...</td>\n",
       "      <td>...</td>\n",
       "    </tr>\n",
       "    <tr>\n",
       "      <th>176</th>\n",
       "      <td>ABBOTINDIA</td>\n",
       "      <td>Abbott India Limited</td>\n",
       "      <td>Pharmaceuticals</td>\n",
       "      <td>INE358A01014</td>\n",
       "      <td>INE358A01014</td>\n",
       "    </tr>\n",
       "    <tr>\n",
       "      <th>177</th>\n",
       "      <td>ASHOKLEY</td>\n",
       "      <td>Ashok Leyland Limited</td>\n",
       "      <td>Commercial Vehicles</td>\n",
       "      <td>INE208A01029</td>\n",
       "      <td>INE208A01029</td>\n",
       "    </tr>\n",
       "    <tr>\n",
       "      <th>178</th>\n",
       "      <td>NTPC</td>\n",
       "      <td>NTPC Limited</td>\n",
       "      <td>Power Generation</td>\n",
       "      <td>INE733E01010</td>\n",
       "      <td>INE733E01010</td>\n",
       "    </tr>\n",
       "    <tr>\n",
       "      <th>179</th>\n",
       "      <td>SIEMENS</td>\n",
       "      <td>Siemens Limited</td>\n",
       "      <td>Heavy Electrical Equipment</td>\n",
       "      <td>INE003A01024</td>\n",
       "      <td>INE003A01024</td>\n",
       "    </tr>\n",
       "    <tr>\n",
       "      <th>180</th>\n",
       "      <td>GRANULES</td>\n",
       "      <td>Granules India Limited</td>\n",
       "      <td>Pharmaceuticals</td>\n",
       "      <td>INE101D01020</td>\n",
       "      <td>INE101D01020</td>\n",
       "    </tr>\n",
       "  </tbody>\n",
       "</table>\n",
       "<p>181 rows × 5 columns</p>\n",
       "</div>"
      ],
      "text/plain": [
       "         symbol                                        companyName  \\\n",
       "0          LTIM                                LTIMindtree Limited   \n",
       "1         TECHM                              Tech Mahindra Limited   \n",
       "2         IRCTC  Indian Railway Catering And Tourism Corporatio...   \n",
       "3         WIPRO                                      Wipro Limited   \n",
       "4           MGL                              Mahanagar Gas Limited   \n",
       "..          ...                                                ...   \n",
       "176  ABBOTINDIA                               Abbott India Limited   \n",
       "177    ASHOKLEY                              Ashok Leyland Limited   \n",
       "178        NTPC                                       NTPC Limited   \n",
       "179     SIEMENS                                    Siemens Limited   \n",
       "180    GRANULES                             Granules India Limited   \n",
       "\n",
       "                              industry          isin      slb_isin  \n",
       "0    Computers - Software & Consulting  INE214T01019  INE214T01019  \n",
       "1    Computers - Software & Consulting  INE669C01036  INE669C01036  \n",
       "2         Tour Travel Related Services  INE335Y01020  INE335Y01020  \n",
       "3    Computers - Software & Consulting  INE075A01022  INE075A01022  \n",
       "4             LPG/CNG/PNG/LNG Supplier  INE002S01010  INE002S01010  \n",
       "..                                 ...           ...           ...  \n",
       "176                    Pharmaceuticals  INE358A01014  INE358A01014  \n",
       "177                Commercial Vehicles  INE208A01029  INE208A01029  \n",
       "178                   Power Generation  INE733E01010  INE733E01010  \n",
       "179         Heavy Electrical Equipment  INE003A01024  INE003A01024  \n",
       "180                    Pharmaceuticals  INE101D01020  INE101D01020  \n",
       "\n",
       "[181 rows x 5 columns]"
      ]
     },
     "execution_count": 13,
     "metadata": {},
     "output_type": "execute_result"
    }
   ],
   "source": [
    "df_details"
   ]
  },
  {
   "cell_type": "code",
   "execution_count": 14,
   "metadata": {
    "id": "dgJ7RgHLBa89"
   },
   "outputs": [],
   "source": [
    "df_details = df_details.drop(columns=['slb_isin'])"
   ]
  },
  {
   "cell_type": "code",
   "execution_count": 15,
   "metadata": {
    "colab": {
     "base_uri": "https://localhost:8080/",
     "height": 53
    },
    "id": "IHjzt4ejIDjO",
    "outputId": "7e6121b3-1e98-4652-b999-cffc4626708f"
   },
   "outputs": [
    {
     "data": {
      "text/html": [
       "<div>\n",
       "<style scoped>\n",
       "    .dataframe tbody tr th:only-of-type {\n",
       "        vertical-align: middle;\n",
       "    }\n",
       "\n",
       "    .dataframe tbody tr th {\n",
       "        vertical-align: top;\n",
       "    }\n",
       "\n",
       "    .dataframe thead th {\n",
       "        text-align: right;\n",
       "    }\n",
       "</style>\n",
       "<table border=\"1\" class=\"dataframe\">\n",
       "  <thead>\n",
       "    <tr style=\"text-align: right;\">\n",
       "      <th></th>\n",
       "      <th>symbol</th>\n",
       "      <th>companyName</th>\n",
       "      <th>industry</th>\n",
       "      <th>isin</th>\n",
       "    </tr>\n",
       "  </thead>\n",
       "  <tbody>\n",
       "  </tbody>\n",
       "</table>\n",
       "</div>"
      ],
      "text/plain": [
       "Empty DataFrame\n",
       "Columns: [symbol, companyName, industry, isin]\n",
       "Index: []"
      ]
     },
     "execution_count": 15,
     "metadata": {},
     "output_type": "execute_result"
    }
   ],
   "source": [
    "df_details[df_details.isnull().any(axis=1)]"
   ]
  },
  {
   "cell_type": "code",
   "execution_count": 16,
   "metadata": {
    "id": "M-o0jTDLieki"
   },
   "outputs": [],
   "source": [
    "nse_df = pd.concat([df_test.set_index('symbol'), df_details.set_index('symbol')], axis = 1, join='outer').reset_index()"
   ]
  },
  {
   "cell_type": "code",
   "execution_count": 17,
   "metadata": {
    "colab": {
     "base_uri": "https://localhost:8080/"
    },
    "id": "8le6i2Q6_AqV",
    "outputId": "08a13807-a269-4ee8-95b7-c7572371d694"
   },
   "outputs": [
    {
     "data": {
      "text/plain": [
       "Index(['symbol', 'open', 'dayHigh', 'dayLow', 'yearHigh', 'yearLow',\n",
       "       'lastPrice', 'companyName', 'industry', 'isin'],\n",
       "      dtype='object')"
      ]
     },
     "execution_count": 17,
     "metadata": {},
     "output_type": "execute_result"
    }
   ],
   "source": [
    "nse_df.columns"
   ]
  },
  {
   "cell_type": "code",
   "execution_count": 18,
   "metadata": {
    "id": "L_tfN8mY_d-Q"
   },
   "outputs": [],
   "source": [
    "nse_df = nse_df[['symbol','companyName', 'open', 'dayHigh', 'dayLow', 'yearHigh', 'yearLow', 'lastPrice', 'industry', 'isin']]"
   ]
  },
  {
   "cell_type": "code",
   "execution_count": 19,
   "metadata": {
    "id": "aRMtH6pf_tPQ"
   },
   "outputs": [],
   "source": [
    "nse_df.rename(columns={'yearHigh':'52w_High', 'yearLow':'52w_Low', 'lastPrice':'Current_price'}, inplace = True)"
   ]
  },
  {
   "cell_type": "code",
   "execution_count": 20,
   "metadata": {
    "colab": {
     "base_uri": "https://localhost:8080/",
     "height": 35
    },
    "id": "xyC-Vw4YYLda",
    "outputId": "331fdc26-d280-486e-9586-14edbd89230f"
   },
   "outputs": [
    {
     "data": {
      "text/plain": [
       "'LTIM'"
      ]
     },
     "execution_count": 20,
     "metadata": {},
     "output_type": "execute_result"
    }
   ],
   "source": [
    "nse_df['symbol'][0]"
   ]
  },
  {
   "cell_type": "code",
   "execution_count": 21,
   "metadata": {
    "id": "Xx42Nb-c3bJ6"
   },
   "outputs": [],
   "source": [
    "keep_values = nse_df['symbol']\n",
    "keep_values = keep_values.tolist()"
   ]
  },
  {
   "cell_type": "code",
   "execution_count": 22,
   "metadata": {
    "colab": {
     "base_uri": "https://localhost:8080/"
    },
    "id": "zwhgF41eEyzG",
    "outputId": "d0a42d1e-8b5a-4c49-dba3-3521cb5647e1"
   },
   "outputs": [
    {
     "name": "stdout",
     "output_type": "stream",
     "text": [
      "[12, 0]\n"
     ]
    }
   ],
   "source": [
    "import pytz\n",
    "time_zone = pytz.timezone('Asia/Kolkata')\n",
    "current_time = datetime.now().astimezone(time_zone)\n",
    "current_time = current_time.strftime('%H:%M')\n",
    "current_time = current_time.split(':')\n",
    "current_time = [int(x) for x in current_time]\n",
    "print(current_time)"
   ]
  },
  {
   "cell_type": "code",
   "execution_count": 23,
   "metadata": {
    "colab": {
     "base_uri": "https://localhost:8080/"
    },
    "id": "nJX9ZeDAKoJ9",
    "outputId": "05d15b93-3ea5-4660-fbf4-c475a1116439"
   },
   "outputs": [
    {
     "data": {
      "text/plain": [
       "0"
      ]
     },
     "execution_count": 23,
     "metadata": {},
     "output_type": "execute_result"
    }
   ],
   "source": [
    "current_time[1]"
   ]
  },
  {
   "cell_type": "code",
   "execution_count": 24,
   "metadata": {
    "colab": {
     "base_uri": "https://localhost:8080/"
    },
    "id": "Z1l6m5xOKS8t",
    "outputId": "b00d320a-b377-4a8e-b960-11be07a68ff3"
   },
   "outputs": [
    {
     "name": "stdout",
     "output_type": "stream",
     "text": [
      "date updated because time is less than 6 pm\n",
      "09-01-2025\n"
     ]
    }
   ],
   "source": [
    "current_date = datetime.now().date()\n",
    "day_of_week = current_date.weekday()\n",
    "if day_of_week == 5:\n",
    "   current_date = current_date - timedelta(days = 1)\n",
    "   print('date updated because it is saturday')\n",
    "\n",
    "if (current_time[0] < 18):\n",
    "    current_date = current_date - timedelta(days = 1)\n",
    "    print('date updated because time is less than 6 pm')\n",
    "    day_of_week = current_date.weekday()\n",
    "    if day_of_week == 5:\n",
    "     current_date = current_date - timedelta(days = 1)\n",
    "     print('date updated because it is saturday')\n",
    "\n",
    "\n",
    "\n",
    "current_date = current_date.strftime(\"%d-%m-%Y\")\n",
    "print(current_date)"
   ]
  },
  {
   "cell_type": "code",
   "execution_count": 25,
   "metadata": {
    "colab": {
     "base_uri": "https://localhost:8080/",
     "height": 399
    },
    "id": "fVdZkoYU1qXu",
    "outputId": "8f5862ec-bc2b-4c1b-d7ff-c5a299468dc6"
   },
   "outputs": [
    {
     "data": {
      "text/html": [
       "<div>\n",
       "<style scoped>\n",
       "    .dataframe tbody tr th:only-of-type {\n",
       "        vertical-align: middle;\n",
       "    }\n",
       "\n",
       "    .dataframe tbody tr th {\n",
       "        vertical-align: top;\n",
       "    }\n",
       "\n",
       "    .dataframe thead th {\n",
       "        text-align: right;\n",
       "    }\n",
       "</style>\n",
       "<table border=\"1\" class=\"dataframe\">\n",
       "  <thead>\n",
       "    <tr style=\"text-align: right;\">\n",
       "      <th></th>\n",
       "      <th>SYMBOL</th>\n",
       "      <th>SERIES</th>\n",
       "      <th>DATE1</th>\n",
       "      <th>PREV_CLOSE</th>\n",
       "      <th>OPEN_PRICE</th>\n",
       "      <th>HIGH_PRICE</th>\n",
       "      <th>LOW_PRICE</th>\n",
       "      <th>LAST_PRICE</th>\n",
       "      <th>CLOSE_PRICE</th>\n",
       "      <th>AVG_PRICE</th>\n",
       "      <th>TTL_TRD_QNTY</th>\n",
       "      <th>TURNOVER_LACS</th>\n",
       "      <th>NO_OF_TRADES</th>\n",
       "      <th>DELIV_QTY</th>\n",
       "      <th>DELIV_PER</th>\n",
       "    </tr>\n",
       "  </thead>\n",
       "  <tbody>\n",
       "    <tr>\n",
       "      <th>63</th>\n",
       "      <td>AARTIIND</td>\n",
       "      <td>EQ</td>\n",
       "      <td>09-Jan-2025</td>\n",
       "      <td>397.85</td>\n",
       "      <td>398.55</td>\n",
       "      <td>417.35</td>\n",
       "      <td>397.85</td>\n",
       "      <td>414.95</td>\n",
       "      <td>413.40</td>\n",
       "      <td>409.49</td>\n",
       "      <td>7735966</td>\n",
       "      <td>31678.33</td>\n",
       "      <td>113688</td>\n",
       "      <td>1110557</td>\n",
       "      <td>14.36</td>\n",
       "    </tr>\n",
       "    <tr>\n",
       "      <th>71</th>\n",
       "      <td>ABB</td>\n",
       "      <td>EQ</td>\n",
       "      <td>09-Jan-2025</td>\n",
       "      <td>6657.00</td>\n",
       "      <td>6638.00</td>\n",
       "      <td>6692.00</td>\n",
       "      <td>6457.50</td>\n",
       "      <td>6483.00</td>\n",
       "      <td>6482.45</td>\n",
       "      <td>6574.51</td>\n",
       "      <td>193962</td>\n",
       "      <td>12752.05</td>\n",
       "      <td>33048</td>\n",
       "      <td>73754</td>\n",
       "      <td>38.02</td>\n",
       "    </tr>\n",
       "    <tr>\n",
       "      <th>72</th>\n",
       "      <td>ABBOTINDIA</td>\n",
       "      <td>EQ</td>\n",
       "      <td>09-Jan-2025</td>\n",
       "      <td>29608.25</td>\n",
       "      <td>29500.00</td>\n",
       "      <td>29930.00</td>\n",
       "      <td>29449.95</td>\n",
       "      <td>29700.00</td>\n",
       "      <td>29753.85</td>\n",
       "      <td>29743.09</td>\n",
       "      <td>7682</td>\n",
       "      <td>2284.86</td>\n",
       "      <td>4016</td>\n",
       "      <td>2641</td>\n",
       "      <td>34.38</td>\n",
       "    </tr>\n",
       "    <tr>\n",
       "      <th>73</th>\n",
       "      <td>ABCAPITAL</td>\n",
       "      <td>EQ</td>\n",
       "      <td>09-Jan-2025</td>\n",
       "      <td>178.91</td>\n",
       "      <td>179.00</td>\n",
       "      <td>179.03</td>\n",
       "      <td>173.00</td>\n",
       "      <td>174.29</td>\n",
       "      <td>173.52</td>\n",
       "      <td>175.15</td>\n",
       "      <td>2507589</td>\n",
       "      <td>4392.12</td>\n",
       "      <td>36301</td>\n",
       "      <td>1007778</td>\n",
       "      <td>40.19</td>\n",
       "    </tr>\n",
       "    <tr>\n",
       "      <th>76</th>\n",
       "      <td>ABFRL</td>\n",
       "      <td>EQ</td>\n",
       "      <td>09-Jan-2025</td>\n",
       "      <td>267.35</td>\n",
       "      <td>266.10</td>\n",
       "      <td>278.50</td>\n",
       "      <td>265.30</td>\n",
       "      <td>277.50</td>\n",
       "      <td>276.55</td>\n",
       "      <td>273.45</td>\n",
       "      <td>3896302</td>\n",
       "      <td>10654.25</td>\n",
       "      <td>26818</td>\n",
       "      <td>1579120</td>\n",
       "      <td>40.53</td>\n",
       "    </tr>\n",
       "  </tbody>\n",
       "</table>\n",
       "</div>"
      ],
      "text/plain": [
       "        SYMBOL  SERIES         DATE1   PREV_CLOSE   OPEN_PRICE   HIGH_PRICE  \\\n",
       "63    AARTIIND      EQ   09-Jan-2025       397.85       398.55       417.35   \n",
       "71         ABB      EQ   09-Jan-2025      6657.00      6638.00      6692.00   \n",
       "72  ABBOTINDIA      EQ   09-Jan-2025     29608.25     29500.00     29930.00   \n",
       "73   ABCAPITAL      EQ   09-Jan-2025       178.91       179.00       179.03   \n",
       "76       ABFRL      EQ   09-Jan-2025       267.35       266.10       278.50   \n",
       "\n",
       "     LOW_PRICE   LAST_PRICE   CLOSE_PRICE   AVG_PRICE   TTL_TRD_QNTY  \\\n",
       "63      397.85       414.95        413.40      409.49        7735966   \n",
       "71     6457.50      6483.00       6482.45     6574.51         193962   \n",
       "72    29449.95     29700.00      29753.85    29743.09           7682   \n",
       "73      173.00       174.29        173.52      175.15        2507589   \n",
       "76      265.30       277.50        276.55      273.45        3896302   \n",
       "\n",
       "     TURNOVER_LACS   NO_OF_TRADES  DELIV_QTY  DELIV_PER  \n",
       "63        31678.33         113688    1110557      14.36  \n",
       "71        12752.05          33048      73754      38.02  \n",
       "72         2284.86           4016       2641      34.38  \n",
       "73         4392.12          36301    1007778      40.19  \n",
       "76        10654.25          26818    1579120      40.53  "
      ]
     },
     "execution_count": 25,
     "metadata": {},
     "output_type": "execute_result"
    }
   ],
   "source": [
    "y = get_bhavcopy(current_date)\n",
    "y = y[y['SYMBOL'].isin(keep_values)]\n",
    "y.head()"
   ]
  },
  {
   "cell_type": "code",
   "execution_count": 26,
   "metadata": {
    "colab": {
     "base_uri": "https://localhost:8080/"
    },
    "id": "QXJaxbeAIXoa",
    "outputId": "667102fd-b8b1-43be-84ed-7a87ca521760"
   },
   "outputs": [
    {
     "data": {
      "text/plain": [
       "222"
      ]
     },
     "execution_count": 26,
     "metadata": {},
     "output_type": "execute_result"
    }
   ],
   "source": [
    "series_list = [' EQ']\n",
    "y = y[y[' SERIES'].isin(series_list)]\n",
    "len(y)"
   ]
  },
  {
   "cell_type": "code",
   "execution_count": 27,
   "metadata": {
    "colab": {
     "base_uri": "https://localhost:8080/",
     "height": 206
    },
    "id": "FJs3zAE44k09",
    "outputId": "3e83588b-f1b1-4be7-c555-5d774e3160ae"
   },
   "outputs": [
    {
     "data": {
      "text/html": [
       "<div>\n",
       "<style scoped>\n",
       "    .dataframe tbody tr th:only-of-type {\n",
       "        vertical-align: middle;\n",
       "    }\n",
       "\n",
       "    .dataframe tbody tr th {\n",
       "        vertical-align: top;\n",
       "    }\n",
       "\n",
       "    .dataframe thead th {\n",
       "        text-align: right;\n",
       "    }\n",
       "</style>\n",
       "<table border=\"1\" class=\"dataframe\">\n",
       "  <thead>\n",
       "    <tr style=\"text-align: right;\">\n",
       "      <th></th>\n",
       "      <th>SYMBOL</th>\n",
       "      <th>DELIV_QTY</th>\n",
       "    </tr>\n",
       "  </thead>\n",
       "  <tbody>\n",
       "    <tr>\n",
       "      <th>63</th>\n",
       "      <td>AARTIIND</td>\n",
       "      <td>1110557</td>\n",
       "    </tr>\n",
       "    <tr>\n",
       "      <th>71</th>\n",
       "      <td>ABB</td>\n",
       "      <td>73754</td>\n",
       "    </tr>\n",
       "    <tr>\n",
       "      <th>72</th>\n",
       "      <td>ABBOTINDIA</td>\n",
       "      <td>2641</td>\n",
       "    </tr>\n",
       "    <tr>\n",
       "      <th>73</th>\n",
       "      <td>ABCAPITAL</td>\n",
       "      <td>1007778</td>\n",
       "    </tr>\n",
       "    <tr>\n",
       "      <th>76</th>\n",
       "      <td>ABFRL</td>\n",
       "      <td>1579120</td>\n",
       "    </tr>\n",
       "  </tbody>\n",
       "</table>\n",
       "</div>"
      ],
      "text/plain": [
       "        SYMBOL  DELIV_QTY\n",
       "63    AARTIIND    1110557\n",
       "71         ABB      73754\n",
       "72  ABBOTINDIA       2641\n",
       "73   ABCAPITAL    1007778\n",
       "76       ABFRL    1579120"
      ]
     },
     "execution_count": 27,
     "metadata": {},
     "output_type": "execute_result"
    }
   ],
   "source": [
    "y = y[['SYMBOL', ' DELIV_QTY']]\n",
    "y.head()"
   ]
  },
  {
   "cell_type": "code",
   "execution_count": 28,
   "metadata": {
    "id": "RvzcqhKMLJUN"
   },
   "outputs": [],
   "source": [
    "nse_df = pd.concat([nse_df.set_index('symbol'), y.set_index('SYMBOL')], axis = 1, join='outer').reset_index(names = 'symbol')"
   ]
  },
  {
   "cell_type": "code",
   "execution_count": 29,
   "metadata": {
    "colab": {
     "base_uri": "https://localhost:8080/",
     "height": 327
    },
    "id": "timJHqbUblqF",
    "outputId": "ed4ae05a-4270-4392-e799-6fb36d4e12fc"
   },
   "outputs": [
    {
     "name": "stdout",
     "output_type": "stream",
     "text": [
      "222\n"
     ]
    },
    {
     "name": "stderr",
     "output_type": "stream",
     "text": [
      "C:\\Users\\omshe\\AppData\\Local\\Temp\\ipykernel_17104\\3518630890.py:6: SettingWithCopyWarning: \n",
      "A value is trying to be set on a copy of a slice from a DataFrame.\n",
      "Try using .loc[row_indexer,col_indexer] = value instead\n",
      "\n",
      "See the caveats in the documentation: https://pandas.pydata.org/pandas-docs/stable/user_guide/indexing.html#returning-a-view-versus-a-copy\n",
      "  account_losing_days['LOSING_DAYS'] = 0\n"
     ]
    },
    {
     "data": {
      "text/html": [
       "<div>\n",
       "<style scoped>\n",
       "    .dataframe tbody tr th:only-of-type {\n",
       "        vertical-align: middle;\n",
       "    }\n",
       "\n",
       "    .dataframe tbody tr th {\n",
       "        vertical-align: top;\n",
       "    }\n",
       "\n",
       "    .dataframe thead th {\n",
       "        text-align: right;\n",
       "    }\n",
       "</style>\n",
       "<table border=\"1\" class=\"dataframe\">\n",
       "  <thead>\n",
       "    <tr style=\"text-align: right;\">\n",
       "      <th></th>\n",
       "      <th>SYMBOL</th>\n",
       "      <th>LOSING_DAYS</th>\n",
       "    </tr>\n",
       "  </thead>\n",
       "  <tbody>\n",
       "    <tr>\n",
       "      <th>63</th>\n",
       "      <td>AARTIIND</td>\n",
       "      <td>0</td>\n",
       "    </tr>\n",
       "    <tr>\n",
       "      <th>71</th>\n",
       "      <td>ABB</td>\n",
       "      <td>0</td>\n",
       "    </tr>\n",
       "    <tr>\n",
       "      <th>72</th>\n",
       "      <td>ABBOTINDIA</td>\n",
       "      <td>0</td>\n",
       "    </tr>\n",
       "    <tr>\n",
       "      <th>73</th>\n",
       "      <td>ABCAPITAL</td>\n",
       "      <td>0</td>\n",
       "    </tr>\n",
       "    <tr>\n",
       "      <th>76</th>\n",
       "      <td>ABFRL</td>\n",
       "      <td>0</td>\n",
       "    </tr>\n",
       "  </tbody>\n",
       "</table>\n",
       "</div>"
      ],
      "text/plain": [
       "        SYMBOL  LOSING_DAYS\n",
       "63    AARTIIND            0\n",
       "71         ABB            0\n",
       "72  ABBOTINDIA            0\n",
       "73   ABCAPITAL            0\n",
       "76       ABFRL            0"
      ]
     },
     "execution_count": 29,
     "metadata": {},
     "output_type": "execute_result"
    }
   ],
   "source": [
    "losing_df = get_bhavcopy(current_date)\n",
    "losing_df = losing_df[losing_df['SYMBOL'].isin(keep_values)]\n",
    "losing_df = losing_df[losing_df[' SERIES'].isin([' EQ'])]\n",
    "account_losing_days = losing_df[['SYMBOL']]\n",
    "\n",
    "account_losing_days['LOSING_DAYS'] = 0\n",
    "print(len(account_losing_days))\n",
    "account_losing_days.head()"
   ]
  },
  {
   "cell_type": "code",
   "execution_count": 30,
   "metadata": {
    "id": "5QUVnHkbPDJu"
   },
   "outputs": [],
   "source": [
    "# Get the current date\n",
    "current_date = datetime.now().date()\n",
    "\n",
    "# Define the number of days ago\n",
    "days_ago = 34\n",
    "\n",
    "# Calculate the date 20 days ago\n",
    "date = current_date - timedelta(days=days_ago)\n",
    "\n",
    "final_date = current_date\n",
    "\n",
    "while(date != final_date):\n",
    "  day_of_week = date.weekday()\n",
    "  if day_of_week == 5:\n",
    "    date = date + timedelta(days = 1)\n",
    "    continue\n",
    "  t = date\n",
    "  t = t.strftime(\"%d-%m-%Y\")\n",
    "\n",
    "\n",
    "  # Wrap the get_bhavcopy call in a try-except block to handle HTTPError\n",
    "  try:\n",
    "    losing_df = get_bhavcopy(t)\n",
    "  except urllib.error.HTTPError as e:\n",
    "    print(f\"Error fetching data for {t}: as NSE was closed on {date-timedelta(1)}\")  # Print error message\n",
    "    date = date + timedelta(days=1)  # Move to the next date\n",
    "    continue  # Skip to the next iteration of the loop\n",
    "\n",
    "  losing_df = losing_df[losing_df['SYMBOL'].isin(keep_values)]\n",
    "  losing_df = losing_df[losing_df[' SERIES'].isin([' EQ'])]\n",
    "  for index, row in losing_df.iterrows():\n",
    "    if row[' OPEN_PRICE'] > row[' CLOSE_PRICE']:\n",
    "        x = row['SYMBOL']\n",
    "        index = account_losing_days.index[account_losing_days['SYMBOL'] == x].tolist()[0]\n",
    "        account_losing_days.at[index, 'LOSING_DAYS'] += 1\n",
    "\n",
    "\n",
    "  date = date + timedelta(days = 1)"
   ]
  },
  {
   "cell_type": "code",
   "execution_count": 31,
   "metadata": {
    "colab": {
     "base_uri": "https://localhost:8080/",
     "height": 206
    },
    "id": "MgHwV-Ccb4yf",
    "outputId": "91705dfe-ceb7-4f28-d4c9-a5fc18286f53"
   },
   "outputs": [
    {
     "data": {
      "text/html": [
       "<div>\n",
       "<style scoped>\n",
       "    .dataframe tbody tr th:only-of-type {\n",
       "        vertical-align: middle;\n",
       "    }\n",
       "\n",
       "    .dataframe tbody tr th {\n",
       "        vertical-align: top;\n",
       "    }\n",
       "\n",
       "    .dataframe thead th {\n",
       "        text-align: right;\n",
       "    }\n",
       "</style>\n",
       "<table border=\"1\" class=\"dataframe\">\n",
       "  <thead>\n",
       "    <tr style=\"text-align: right;\">\n",
       "      <th></th>\n",
       "      <th>SYMBOL</th>\n",
       "      <th>LOSING_DAYS</th>\n",
       "    </tr>\n",
       "  </thead>\n",
       "  <tbody>\n",
       "    <tr>\n",
       "      <th>63</th>\n",
       "      <td>AARTIIND</td>\n",
       "      <td>20</td>\n",
       "    </tr>\n",
       "    <tr>\n",
       "      <th>71</th>\n",
       "      <td>ABB</td>\n",
       "      <td>19</td>\n",
       "    </tr>\n",
       "    <tr>\n",
       "      <th>72</th>\n",
       "      <td>ABBOTINDIA</td>\n",
       "      <td>17</td>\n",
       "    </tr>\n",
       "    <tr>\n",
       "      <th>73</th>\n",
       "      <td>ABCAPITAL</td>\n",
       "      <td>21</td>\n",
       "    </tr>\n",
       "    <tr>\n",
       "      <th>76</th>\n",
       "      <td>ABFRL</td>\n",
       "      <td>21</td>\n",
       "    </tr>\n",
       "  </tbody>\n",
       "</table>\n",
       "</div>"
      ],
      "text/plain": [
       "        SYMBOL  LOSING_DAYS\n",
       "63    AARTIIND           20\n",
       "71         ABB           19\n",
       "72  ABBOTINDIA           17\n",
       "73   ABCAPITAL           21\n",
       "76       ABFRL           21"
      ]
     },
     "execution_count": 31,
     "metadata": {},
     "output_type": "execute_result"
    }
   ],
   "source": [
    "account_losing_days.head()"
   ]
  },
  {
   "cell_type": "code",
   "execution_count": 32,
   "metadata": {
    "id": "g1LAJQ5fpr36"
   },
   "outputs": [],
   "source": [
    "nse_df = pd.concat([nse_df.set_index('symbol'), account_losing_days.set_index('SYMBOL')], axis = 1, join='outer').reset_index(names = 'symbol')"
   ]
  },
  {
   "cell_type": "code",
   "execution_count": 33,
   "metadata": {
    "id": "pzkJcMnWlrUT"
   },
   "outputs": [],
   "source": [
    "nse_df['52w_High'] = nse_df['52w_High'].astype(float)\n",
    "nse_df['52w_Low'] = nse_df['52w_Low'].astype(float)\n",
    "nse_df['Current_price'] = nse_df['Current_price'].astype(float)"
   ]
  },
  {
   "cell_type": "code",
   "execution_count": 34,
   "metadata": {
    "colab": {
     "base_uri": "https://localhost:8080/"
    },
    "id": "8YTuweOCz4FF",
    "outputId": "9f4f1fd0-56de-425f-d320-88bc93e9f186"
   },
   "outputs": [
    {
     "name": "stderr",
     "output_type": "stream",
     "text": [
      "C:\\Users\\omshe\\AppData\\Local\\Temp\\ipykernel_17104\\3158549882.py:9: FutureWarning: Setting an item of incompatible dtype is deprecated and will raise an error in a future version of pandas. Value 'High' has dtype incompatible with float64, please explicitly cast to a compatible dtype first.\n",
      "  nse_df.at[index, 'going_towards'] = \"High\"\n"
     ]
    }
   ],
   "source": [
    "nse_df['going_towards'] = np.nan\n",
    "for index, row in nse_df.iterrows():\n",
    "  high_diff = row['52w_High'] - row['Current_price']\n",
    "  low_diff = row['Current_price'] - row['52w_Low']\n",
    "\n",
    "  if (high_diff > low_diff):\n",
    "    nse_df.at[index, 'going_towards'] = \"Low\"\n",
    "  else:\n",
    "    nse_df.at[index, 'going_towards'] = \"High\""
   ]
  },
  {
   "cell_type": "code",
   "execution_count": 35,
   "metadata": {
    "id": "zTe9yfnWCgWJ"
   },
   "outputs": [],
   "source": [
    "nse_df['open'] = nse_df['open'].astype(float)\n",
    "nse_df['Current_price'] = nse_df['Current_price'].astype(float)\n",
    "nse_df['dayHigh'] = nse_df['dayHigh'].astype(float)\n",
    "nse_df['dayLow'] = nse_df['dayLow'].astype(float)\n",
    "nse_df['52w_High'] = nse_df['52w_High'].astype(float)\n",
    "nse_df['52w_Low'] = nse_df['52w_Low'].astype(float)"
   ]
  },
  {
   "cell_type": "code",
   "execution_count": 36,
   "metadata": {
    "colab": {
     "base_uri": "https://localhost:8080/"
    },
    "id": "2DtLg9KrJI7m",
    "outputId": "2f53faaf-0c6f-4aa8-9ed6-40aa0714f7b8"
   },
   "outputs": [
    {
     "name": "stderr",
     "output_type": "stream",
     "text": [
      "C:\\Users\\omshe\\AppData\\Local\\Temp\\ipykernel_17104\\1758213310.py:5: FutureWarning: Setting an item of incompatible dtype is deprecated and will raise an error in a future version of pandas. Value '4.37' has dtype incompatible with float64, please explicitly cast to a compatible dtype first.\n",
      "  nse_df.at[index, 'change%'] = change_pc\n"
     ]
    }
   ],
   "source": [
    "nse_df['change%'] = np.nan\n",
    "for index, row in nse_df.iterrows():\n",
    "  change_pc = ((row['Current_price']-row['open'])/row['open'])*100\n",
    "  change_pc = format(change_pc, \".2f\")\n",
    "  nse_df.at[index, 'change%'] = change_pc"
   ]
  },
  {
   "cell_type": "code",
   "execution_count": 37,
   "metadata": {},
   "outputs": [],
   "source": [
    "import yfinance as yf\n",
    "\n",
    "def profit_sales_analysis(ticker, parameter):\n",
    "    cases = ['000', '001', '010', '011', '100', '101', '110', '111']\n",
    "\n",
    "    try:\n",
    "        ticker = f\"{ticker}.NS\"\n",
    "        ticker_obj = yf.Ticker(ticker)\n",
    "        financials = ticker_obj.financials\n",
    "\n",
    "        y_4 = financials.iloc[financials.index.get_loc(parameter), 0]\n",
    "        y_3 = financials.iloc[financials.index.get_loc(parameter), 1]\n",
    "        y_2 = financials.iloc[financials.index.get_loc(parameter), 2]\n",
    "        y_1 = financials.iloc[financials.index.get_loc(parameter), 3]\n",
    "\n",
    "        result = \"\"\n",
    "\n",
    "        if (y_4 - y_3) > 0:\n",
    "            result += \"1\"\n",
    "        else:\n",
    "            result += \"0\"\n",
    "        \n",
    "        if (y_3 - y_2) > 0:\n",
    "            result += \"1\"\n",
    "        else:\n",
    "            result += \"0\"\n",
    "            \n",
    "        if (y_2 - y_1) > 0:\n",
    "            result += \"1\"\n",
    "        else:\n",
    "            result += \"0\"\n",
    "        \n",
    "        if result == cases[0]:\n",
    "            return \"Not Recommended\"\n",
    "        elif result == cases[1]:\n",
    "            return \"Check quarterly results\"\n",
    "        elif result == cases[2]:\n",
    "            return \"Caution need monitoring\"\n",
    "        elif result == cases[3]:\n",
    "            return \"Recommended\"\n",
    "        elif result == cases[4]:\n",
    "            return \"Not Recommended\"\n",
    "        elif result == cases[5]:\n",
    "            return \"Caution need Monitoring\"\n",
    "        elif result == cases[6]:\n",
    "            return \"Caution need Monitoring\"\n",
    "        elif result == cases[7]:\n",
    "            return \"Highly Recommended\"\n",
    "\n",
    "\n",
    "    except Exception as e:\n",
    "        #print(f\"Error fetching profit/sales data for {ticker}: {e}\")\n",
    "        return np.nan  # Return NaN if any error occurs"
   ]
  },
  {
   "cell_type": "code",
   "execution_count": 38,
   "metadata": {},
   "outputs": [],
   "source": [
    "import yfinance as yf\n",
    "\n",
    "def debt_analysis(ticker, parameter):\n",
    "    cases = ['000', '001', '010', '011', '100', '101', '110', '111']\n",
    "    \n",
    "    try:\n",
    "        ticker = f\"{ticker}.NS\"\n",
    "        ticker_obj = yf.Ticker(ticker)\n",
    "        balance_sheet = ticker_obj.balance_sheet\n",
    "\n",
    "        y_4 = balance_sheet.iloc[balance_sheet.index.get_loc(parameter), 0]\n",
    "        y_3 = balance_sheet.iloc[balance_sheet.index.get_loc(parameter), 1]\n",
    "        y_2 = balance_sheet.iloc[balance_sheet.index.get_loc(parameter), 2]\n",
    "        y_1 = balance_sheet.iloc[balance_sheet.index.get_loc(parameter), 3]\n",
    "\n",
    "        result = \"\"\n",
    "\n",
    "        if (y_4 - y_3) > 0:\n",
    "            result += \"1\"\n",
    "        else:\n",
    "            result += \"0\"\n",
    "        \n",
    "        if (y_3 - y_2) > 0:\n",
    "            result += \"1\"\n",
    "        else:\n",
    "            result += \"0\"\n",
    "            \n",
    "        if (y_2 - y_1) > 0:\n",
    "            result += \"1\"\n",
    "        else:\n",
    "            result += \"0\"\n",
    "        \n",
    "        if result == cases[0]:\n",
    "            return \"Highly Recommended\"\n",
    "        elif result == cases[1]:\n",
    "            return \"Caution need monitoring\"\n",
    "        elif result == cases[2]:\n",
    "            return \"Caution need monitoring\"\n",
    "        elif result == cases[3]:\n",
    "            return \"Not Recommended\"\n",
    "        elif result == cases[4]:\n",
    "            return \"Recommended\"\n",
    "        elif result == cases[5]:\n",
    "            return \"Caution need monitoring\"\n",
    "        elif result == cases[6]:\n",
    "            return \"Caution need Monitoring\"\n",
    "        elif result == cases[7]:\n",
    "            return \"Not Recommended\"\n",
    "\n",
    "\n",
    "    except Exception as e:\n",
    "        #print(f\"Error fetching Debt data for {ticker}: {e}\")\n",
    "        return np.nan  # Return NaN if any error occurs"
   ]
  },
  {
   "cell_type": "code",
   "execution_count": 39,
   "metadata": {},
   "outputs": [
    {
     "name": "stdout",
     "output_type": "stream",
     "text": [
      "True\n"
     ]
    }
   ],
   "source": [
    "x = np.nan\n",
    "print(np.isnan(x))"
   ]
  },
  {
   "cell_type": "code",
   "execution_count": 40,
   "metadata": {},
   "outputs": [
    {
     "data": {
      "text/plain": [
       "['LTIM',\n",
       " 'TECHM',\n",
       " 'IRCTC',\n",
       " 'WIPRO',\n",
       " 'MGL',\n",
       " 'PERSISTENT',\n",
       " 'LTTS',\n",
       " 'INFY',\n",
       " 'HCLTECH',\n",
       " 'MPHASIS',\n",
       " 'BSOFT',\n",
       " 'COFORGE',\n",
       " 'NATIONALUM',\n",
       " 'BATAINDIA',\n",
       " 'HINDPETRO',\n",
       " 'HINDCOPPER',\n",
       " 'AUBANK',\n",
       " 'MARICO',\n",
       " 'MANAPPURAM',\n",
       " 'TATACOMM',\n",
       " 'ASTRAL',\n",
       " 'ONGC',\n",
       " 'DELHIVERY',\n",
       " 'BAJAJFINSV',\n",
       " 'NESTLEIND',\n",
       " 'JSWSTEEL',\n",
       " 'ESCORTS',\n",
       " 'DIXON',\n",
       " 'BAJFINANCE',\n",
       " 'INDIGO',\n",
       " 'SBILIFE',\n",
       " 'BRITANNIA',\n",
       " 'ATGL',\n",
       " 'TATACONSUM',\n",
       " 'NYKAA',\n",
       " 'LICI',\n",
       " 'BHARTIARTL',\n",
       " 'IGL',\n",
       " 'KEI',\n",
       " 'ZOMATO',\n",
       " 'BPCL',\n",
       " 'LT',\n",
       " 'ICICIPRULI',\n",
       " 'UPL',\n",
       " 'SONACOMS',\n",
       " 'SUNTV',\n",
       " 'ABB',\n",
       " 'TATAMOTORS',\n",
       " 'SAIL',\n",
       " 'HDFCBANK',\n",
       " 'ANGELONE',\n",
       " 'MUTHOOTFIN',\n",
       " 'OIL',\n",
       " 'HDFCLIFE',\n",
       " 'HINDUNILVR',\n",
       " 'IOC',\n",
       " 'INDIAMART',\n",
       " 'NHPC',\n",
       " 'COALINDIA',\n",
       " 'JSL',\n",
       " 'ABFRL',\n",
       " 'ZYDUSLIFE',\n",
       " 'PETRONET',\n",
       " 'PIIND',\n",
       " 'DABUR',\n",
       " 'ADANIPORTS',\n",
       " 'HEROMOTOCO',\n",
       " 'GODREJCP',\n",
       " 'SBICARD',\n",
       " 'GMRAIRPORT',\n",
       " 'NAUKRI',\n",
       " 'SHREECEM',\n",
       " 'TORNTPHARM',\n",
       " 'ALKEM',\n",
       " 'NCC',\n",
       " 'M&M',\n",
       " 'CIPLA',\n",
       " 'TITAN',\n",
       " 'SYNGENE',\n",
       " 'POWERGRID',\n",
       " 'RELIANCE',\n",
       " 'IEX',\n",
       " 'MFSL',\n",
       " 'CESC',\n",
       " 'BSE',\n",
       " 'ADANIENSOL',\n",
       " 'APOLLOHOSP',\n",
       " 'ICICIBANK',\n",
       " 'LODHA',\n",
       " 'BHARATFORG',\n",
       " 'ICICIGI',\n",
       " 'PIDILITIND',\n",
       " 'CHAMBLFERT',\n",
       " 'UBL',\n",
       " 'OFSS',\n",
       " 'DEEPAKNTR',\n",
       " 'ASIANPAINT',\n",
       " 'DIVISLAB',\n",
       " 'DRREDDY',\n",
       " 'KOTAKBANK',\n",
       " 'CANFINHOME',\n",
       " 'COLPAL',\n",
       " 'COROMANDEL',\n",
       " 'BOSCHLTD',\n",
       " 'TRENT',\n",
       " 'PRESTIGE',\n",
       " 'TIINDIA',\n",
       " 'IDEA',\n",
       " 'JIOFIN',\n",
       " 'BERGEPAINT',\n",
       " 'ACC',\n",
       " 'RBLBANK',\n",
       " 'PVRINOX',\n",
       " 'VEDL',\n",
       " 'NMDC',\n",
       " 'MRF',\n",
       " 'POONAWALLA',\n",
       " 'BALKRISIND',\n",
       " 'M&MFIN',\n",
       " 'VBL',\n",
       " 'HAL',\n",
       " 'HAVELLS',\n",
       " 'CANBK',\n",
       " 'TATASTEEL',\n",
       " 'CAMS',\n",
       " 'CUB',\n",
       " 'BANKINDIA',\n",
       " 'PAGEIND',\n",
       " 'ABCAPITAL',\n",
       " 'EICHERMOT',\n",
       " 'MARUTI',\n",
       " 'ITC',\n",
       " 'APLAPOLLO',\n",
       " 'BAJAJ-AUTO',\n",
       " 'EXIDEIND',\n",
       " 'SUPREMEIND',\n",
       " 'POLYCAB',\n",
       " 'DMART',\n",
       " 'TVSMOTOR',\n",
       " 'GUJGASLTD',\n",
       " 'BANKBARODA',\n",
       " 'AARTIIND',\n",
       " 'IDFCFIRSTB',\n",
       " 'CROMPTON',\n",
       " 'AXISBANK',\n",
       " 'HFCL',\n",
       " 'GAIL',\n",
       " 'CONCOR',\n",
       " 'HDFCAMC',\n",
       " 'IRFC',\n",
       " 'LICHSGFIN',\n",
       " 'SBIN',\n",
       " 'YESBANK',\n",
       " 'GRASIM',\n",
       " 'INDUSTOWER',\n",
       " 'SJVN',\n",
       " 'METROPOLIS',\n",
       " 'JINDALSTEL',\n",
       " 'PEL',\n",
       " 'CYIENT',\n",
       " 'AMBUJACEM',\n",
       " 'MOTHERSON',\n",
       " 'ADANIGREEN',\n",
       " 'JUBLFOOD',\n",
       " 'FEDERALBNK',\n",
       " 'TATAPOWER',\n",
       " 'CDSL',\n",
       " 'GODREJPROP',\n",
       " 'RAMCOCEM',\n",
       " 'BEL',\n",
       " 'CGPOWER',\n",
       " 'ATUL',\n",
       " 'UNITDSPR',\n",
       " 'GLENMARK',\n",
       " 'LUPIN',\n",
       " 'CUMMINSIND',\n",
       " 'ABBOTINDIA',\n",
       " 'ASHOKLEY',\n",
       " 'NTPC',\n",
       " 'SIEMENS',\n",
       " 'GRANULES',\n",
       " 'IPCALAB',\n",
       " 'PNB',\n",
       " 'MCX',\n",
       " 'BIOCON',\n",
       " 'APOLLOTYRE',\n",
       " 'POLICYBZR',\n",
       " 'DLF',\n",
       " 'INDIANB',\n",
       " 'SUNPHARMA',\n",
       " 'LTF',\n",
       " 'ADANIENT',\n",
       " 'ULTRACEMCO',\n",
       " 'IRB',\n",
       " 'HINDALCO',\n",
       " 'PFC',\n",
       " 'VOLTAS',\n",
       " 'INDHOTEL',\n",
       " 'DALBHARAT',\n",
       " 'LALPATHLAB',\n",
       " 'OBEROIRLTY',\n",
       " 'SRF',\n",
       " 'KALYANKJIL',\n",
       " 'BANDHANBNK',\n",
       " 'BHEL',\n",
       " 'HUDCO',\n",
       " 'KPITTECH',\n",
       " 'JSWENERGY',\n",
       " 'UNIONBANK',\n",
       " 'MAXHEALTH',\n",
       " 'TATACHEM',\n",
       " 'CHOLAFIN',\n",
       " 'GNFC',\n",
       " 'LAURUSLABS',\n",
       " 'INDUSINDBK',\n",
       " 'NAVINFLUOR',\n",
       " 'JKCEMENT',\n",
       " 'RECLTD',\n",
       " 'AUROPHARMA',\n",
       " 'PAYTM',\n",
       " 'TATAELXSI',\n",
       " 'SHRIRAMFIN']"
      ]
     },
     "execution_count": 40,
     "metadata": {},
     "output_type": "execute_result"
    }
   ],
   "source": [
    "symbol_list = (nse_df['symbol']).tolist()\n",
    "symbol_list"
   ]
  },
  {
   "cell_type": "code",
   "execution_count": 41,
   "metadata": {},
   "outputs": [
    {
     "name": "stdout",
     "output_type": "stream",
     "text": [
      "Profit Value Changed for: AUBANK\n",
      "Profit Value Changed for: MANAPPURAM\n",
      "Profit Value Changed for: NESTLEIND\n",
      "Profit Value Changed for: BAJFINANCE\n",
      "Profit Value Changed for: HDFCBANK\n",
      "Profit Value Changed for: MUTHOOTFIN\n",
      "Profit Value Changed for: SBICARD\n",
      "Profit Value Changed for: ICICIBANK\n",
      "Profit Value Changed for: KOTAKBANK\n",
      "Profit Value Changed for: CANFINHOME\n",
      "Profit Value Changed for: RBLBANK\n",
      "Profit Value Changed for: M&MFIN\n",
      "Profit Value Changed for: CANBK\n",
      "Profit Value Changed for: CUB\n",
      "Profit Value Changed for: BANKINDIA\n",
      "Profit Value Changed for: BANKBARODA\n",
      "Profit Value Changed for: IDFCFIRSTB\n",
      "Profit Value Changed for: AXISBANK\n",
      "Profit Value Changed for: LICHSGFIN\n",
      "Profit Value Changed for: SBIN\n",
      "Profit Value Changed for: YESBANK\n",
      "Profit Value Changed for: AMBUJACEM\n",
      "Profit Value Changed for: FEDERALBNK\n",
      "Profit Value Changed for: PNB\n",
      "Profit Value Changed for: INDIANB\n",
      "Profit Value Changed for: LTF\n",
      "Profit Value Changed for: PFC\n",
      "Profit Value Changed for: BANDHANBNK\n",
      "Profit Value Changed for: HUDCO\n",
      "Profit Value Changed for: UNIONBANK\n",
      "Profit Value Changed for: CHOLAFIN\n",
      "Profit Value Changed for: INDUSINDBK\n",
      "Profit Value Changed for: RECLTD\n",
      "Profit Value Changed for: SHRIRAMFIN\n"
     ]
    },
    {
     "data": {
      "text/html": [
       "<div>\n",
       "<style scoped>\n",
       "    .dataframe tbody tr th:only-of-type {\n",
       "        vertical-align: middle;\n",
       "    }\n",
       "\n",
       "    .dataframe tbody tr th {\n",
       "        vertical-align: top;\n",
       "    }\n",
       "\n",
       "    .dataframe thead th {\n",
       "        text-align: right;\n",
       "    }\n",
       "</style>\n",
       "<table border=\"1\" class=\"dataframe\">\n",
       "  <thead>\n",
       "    <tr style=\"text-align: right;\">\n",
       "      <th></th>\n",
       "      <th>symbol</th>\n",
       "      <th>companyName</th>\n",
       "      <th>open</th>\n",
       "      <th>dayHigh</th>\n",
       "      <th>dayLow</th>\n",
       "      <th>52w_High</th>\n",
       "      <th>52w_Low</th>\n",
       "      <th>Current_price</th>\n",
       "      <th>industry</th>\n",
       "      <th>isin</th>\n",
       "      <th>DELIV_QTY</th>\n",
       "      <th>LOSING_DAYS</th>\n",
       "      <th>going_towards</th>\n",
       "      <th>change%</th>\n",
       "      <th>Profit Analysis</th>\n",
       "      <th>Sales Analysis</th>\n",
       "      <th>Debt Analysis</th>\n",
       "    </tr>\n",
       "  </thead>\n",
       "  <tbody>\n",
       "    <tr>\n",
       "      <th>0</th>\n",
       "      <td>LTIM</td>\n",
       "      <td>LTIMindtree Limited</td>\n",
       "      <td>5882.0</td>\n",
       "      <td>6152.80</td>\n",
       "      <td>5882.00</td>\n",
       "      <td>6767.95</td>\n",
       "      <td>4513.55</td>\n",
       "      <td>6138.80</td>\n",
       "      <td>Computers - Software &amp; Consulting</td>\n",
       "      <td>INE214T01019</td>\n",
       "      <td>97126</td>\n",
       "      <td>18</td>\n",
       "      <td>High</td>\n",
       "      <td>4.37</td>\n",
       "      <td>Highly Recommended</td>\n",
       "      <td>Highly Recommended</td>\n",
       "      <td>Not Recommended</td>\n",
       "    </tr>\n",
       "    <tr>\n",
       "      <th>1</th>\n",
       "      <td>TECHM</td>\n",
       "      <td>Tech Mahindra Limited</td>\n",
       "      <td>1653.1</td>\n",
       "      <td>1710.00</td>\n",
       "      <td>1636.30</td>\n",
       "      <td>1807.70</td>\n",
       "      <td>1162.95</td>\n",
       "      <td>1708.70</td>\n",
       "      <td>Computers - Software &amp; Consulting</td>\n",
       "      <td>INE669C01036</td>\n",
       "      <td>365123</td>\n",
       "      <td>18</td>\n",
       "      <td>High</td>\n",
       "      <td>3.36</td>\n",
       "      <td>Check quarterly results</td>\n",
       "      <td>Recommended</td>\n",
       "      <td>Caution need monitoring</td>\n",
       "    </tr>\n",
       "    <tr>\n",
       "      <th>2</th>\n",
       "      <td>IRCTC</td>\n",
       "      <td>Indian Railway Catering And Tourism Corporatio...</td>\n",
       "      <td>772.8</td>\n",
       "      <td>800.75</td>\n",
       "      <td>755.30</td>\n",
       "      <td>1138.90</td>\n",
       "      <td>755.30</td>\n",
       "      <td>791.55</td>\n",
       "      <td>Tour Travel Related Services</td>\n",
       "      <td>INE335Y01020</td>\n",
       "      <td>291757</td>\n",
       "      <td>12</td>\n",
       "      <td>Low</td>\n",
       "      <td>2.43</td>\n",
       "      <td>Highly Recommended</td>\n",
       "      <td>Highly Recommended</td>\n",
       "      <td>Caution need monitoring</td>\n",
       "    </tr>\n",
       "    <tr>\n",
       "      <th>3</th>\n",
       "      <td>WIPRO</td>\n",
       "      <td>Wipro Limited</td>\n",
       "      <td>294.3</td>\n",
       "      <td>302.75</td>\n",
       "      <td>294.30</td>\n",
       "      <td>320.00</td>\n",
       "      <td>208.50</td>\n",
       "      <td>302.50</td>\n",
       "      <td>Computers - Software &amp; Consulting</td>\n",
       "      <td>INE075A01022</td>\n",
       "      <td>3629759</td>\n",
       "      <td>14</td>\n",
       "      <td>High</td>\n",
       "      <td>2.79</td>\n",
       "      <td>Highly Recommended</td>\n",
       "      <td>Recommended</td>\n",
       "      <td>Caution need monitoring</td>\n",
       "    </tr>\n",
       "    <tr>\n",
       "      <th>4</th>\n",
       "      <td>MGL</td>\n",
       "      <td>Mahanagar Gas Limited</td>\n",
       "      <td>1295.0</td>\n",
       "      <td>1312.00</td>\n",
       "      <td>1240.05</td>\n",
       "      <td>1988.00</td>\n",
       "      <td>1075.25</td>\n",
       "      <td>1311.00</td>\n",
       "      <td>LPG/CNG/PNG/LNG Supplier</td>\n",
       "      <td>INE002S01010</td>\n",
       "      <td>397670</td>\n",
       "      <td>11</td>\n",
       "      <td>Low</td>\n",
       "      <td>1.24</td>\n",
       "      <td>Caution need Monitoring</td>\n",
       "      <td>Recommended</td>\n",
       "      <td>Not Recommended</td>\n",
       "    </tr>\n",
       "  </tbody>\n",
       "</table>\n",
       "</div>"
      ],
      "text/plain": [
       "  symbol                                        companyName    open  dayHigh  \\\n",
       "0   LTIM                                LTIMindtree Limited  5882.0  6152.80   \n",
       "1  TECHM                              Tech Mahindra Limited  1653.1  1710.00   \n",
       "2  IRCTC  Indian Railway Catering And Tourism Corporatio...   772.8   800.75   \n",
       "3  WIPRO                                      Wipro Limited   294.3   302.75   \n",
       "4    MGL                              Mahanagar Gas Limited  1295.0  1312.00   \n",
       "\n",
       "    dayLow  52w_High  52w_Low  Current_price  \\\n",
       "0  5882.00   6767.95  4513.55        6138.80   \n",
       "1  1636.30   1807.70  1162.95        1708.70   \n",
       "2   755.30   1138.90   755.30         791.55   \n",
       "3   294.30    320.00   208.50         302.50   \n",
       "4  1240.05   1988.00  1075.25        1311.00   \n",
       "\n",
       "                            industry          isin  DELIV_QTY  LOSING_DAYS  \\\n",
       "0  Computers - Software & Consulting  INE214T01019      97126           18   \n",
       "1  Computers - Software & Consulting  INE669C01036     365123           18   \n",
       "2       Tour Travel Related Services  INE335Y01020     291757           12   \n",
       "3  Computers - Software & Consulting  INE075A01022    3629759           14   \n",
       "4           LPG/CNG/PNG/LNG Supplier  INE002S01010     397670           11   \n",
       "\n",
       "  going_towards change%          Profit Analysis      Sales Analysis  \\\n",
       "0          High    4.37       Highly Recommended  Highly Recommended   \n",
       "1          High    3.36  Check quarterly results         Recommended   \n",
       "2           Low    2.43       Highly Recommended  Highly Recommended   \n",
       "3          High    2.79       Highly Recommended         Recommended   \n",
       "4           Low    1.24  Caution need Monitoring         Recommended   \n",
       "\n",
       "             Debt Analysis  \n",
       "0          Not Recommended  \n",
       "1  Caution need monitoring  \n",
       "2  Caution need monitoring  \n",
       "3  Caution need monitoring  \n",
       "4          Not Recommended  "
      ]
     },
     "execution_count": 41,
     "metadata": {},
     "output_type": "execute_result"
    }
   ],
   "source": [
    "symbol_list = (nse_df['symbol']).tolist()\n",
    "\n",
    "Profit_Analysis = []\n",
    "Sales_Analysis = []\n",
    "Debt_Analysis = []\n",
    "\n",
    "for symbol in symbol_list:\n",
    "\n",
    "    profit = profit_sales_analysis(symbol, \"EBIT\")\n",
    "    \n",
    "    if not (isinstance(profit, str)):\n",
    "        profit = profit_sales_analysis(symbol, \"Net Income\")\n",
    "        print(f\"Profit Value Changed for: {symbol}\")\n",
    "    \n",
    "    sales = profit_sales_analysis(symbol, \"Total Revenue\")\n",
    "    \n",
    "    debt = debt_analysis(symbol, \"Total Debt\")\n",
    "    \n",
    "    Profit_Analysis.append(profit)\n",
    "    Sales_Analysis.append(sales)\n",
    "    Debt_Analysis.append(debt)\n",
    "\n",
    "nse_df[\"Profit Analysis\"] = Profit_Analysis\n",
    "nse_df[\"Sales Analysis\"] = Sales_Analysis\n",
    "nse_df[\"Debt Analysis\"] = Debt_Analysis\n",
    "nse_df.head()"
   ]
  },
  {
   "cell_type": "code",
   "execution_count": null,
   "metadata": {},
   "outputs": [],
   "source": []
  },
  {
   "cell_type": "code",
   "execution_count": 42,
   "metadata": {},
   "outputs": [],
   "source": [
    "def get_company_details(ticker, detail):\n",
    "    t = f\"{ticker}.NS\"\n",
    "    t = yf.Ticker(t)\n",
    "    return t.info[detail]"
   ]
  },
  {
   "cell_type": "code",
   "execution_count": 43,
   "metadata": {},
   "outputs": [],
   "source": [
    "for index in range(181, len(nse_df)):\n",
    "    if pd.isna(nse_df.at[index, \"companyName\"]):\n",
    "        symbol = nse_df.at[index, \"symbol\"]\n",
    "                \n",
    "        # Try to get the company name (longName, fallback to shortName)\n",
    "        try:\n",
    "            name = get_company_details(symbol, \"longName\")\n",
    "        except Exception as e:\n",
    "            print(f\"Error getting longName for symbol {symbol}: {e}\")\n",
    "            try:\n",
    "                name = get_company_details(symbol, \"shortName\")\n",
    "            except Exception as e:\n",
    "                print(f\"Error getting shortName for symbol {symbol}: {e}\")\n",
    "                name = None  # Use None or a default value if both fail\n",
    "        \n",
    "        # Get industry information\n",
    "        try:\n",
    "            industry = get_company_details(symbol, \"industry\")\n",
    "        except Exception as e:\n",
    "            print(f\"Error getting industry for symbol {symbol}: {e}\")\n",
    "            industry = None  # Use None or a default value if this fails\n",
    "        \n",
    "        # Update the DataFrame\n",
    "        nse_df.at[index, \"companyName\"] = name\n",
    "        nse_df.at[index, \"industry\"] = industry\n"
   ]
  },
  {
   "cell_type": "code",
   "execution_count": 44,
   "metadata": {},
   "outputs": [
    {
     "data": {
      "text/plain": [
       "np.int64(2)"
      ]
     },
     "execution_count": 44,
     "metadata": {},
     "output_type": "execute_result"
    }
   ],
   "source": [
    "nse_df['Profit Analysis'].isna().sum()"
   ]
  },
  {
   "cell_type": "markdown",
   "metadata": {},
   "source": [
    "### News Scrapping and analysis\n"
   ]
  },
  {
   "cell_type": "markdown",
   "metadata": {},
   "source": [
    "#### Performed in Colab"
   ]
  },
  {
   "cell_type": "code",
   "execution_count": 45,
   "metadata": {},
   "outputs": [],
   "source": [
    "from selenium import webdriver\n",
    "from selenium.webdriver.common.by import By\n",
    "from selenium.webdriver.common.action_chains import ActionChains\n",
    "from selenium.webdriver.chrome.service import Service\n",
    "from selenium.webdriver.common.keys import Keys\n",
    "from selenium.webdriver.support.ui import WebDriverWait\n",
    "from selenium.webdriver.support import expected_conditions as EC\n",
    "from selenium.common.exceptions import NoSuchElementException, TimeoutException\n",
    "from selenium.webdriver.chrome.options import Options\n",
    "import time\n",
    "\n",
    "def scrape_yahoo_finance_news(symbol: str):\n",
    "    \n",
    "    print(symbol)\n",
    "    # Initialize Selenium WebDriver\n",
    "    chrome_options = Options()\n",
    "    chrome_options.add_argument(\"--headless\")  # Run in headless mode\n",
    "    chrome_options.add_argument(\"--disable-gpu\")\n",
    "    chrome_options.add_argument(\"--no-sandbox\")\n",
    "    \n",
    "    driver = webdriver.Chrome(options=chrome_options)\n",
    "    \n",
    "    # Construct the URL dynamically\n",
    "    url = f\"https://finance.yahoo.com/quote/{symbol}.NS/news/\"\n",
    "    \n",
    "    try:\n",
    "        # Navigate to the URL\n",
    "        driver.get(url)\n",
    "        wait = WebDriverWait(driver, 1)\n",
    "        \n",
    "        # Check if the news container exists\n",
    "        \n",
    "        try:\n",
    "            news_container = wait.until(EC.presence_of_element_located((By.CSS_SELECTOR, 'div[data-testid=\"news-tabs-container\"]')))\n",
    "        except TimeoutException:\n",
    "            return f\"{symbol} - No news\"\n",
    "        \n",
    "        \n",
    "        # Locate the list of news items\n",
    "        try:\n",
    "            news_list = wait.until(EC.presence_of_element_located((By.CSS_SELECTOR, 'ul.stream-items.yf-1usaaz9')))\n",
    "            news_items = news_list.find_elements(By.CSS_SELECTOR, 'li.stream-item.story-item.yf-1usaaz9')\n",
    "            \n",
    "            titles = []\n",
    "            descriptions = []\n",
    "            \n",
    "            for item in news_items:\n",
    "                try:\n",
    "                    # Extract title and description\n",
    "                    title_tag = item.find_element(By.CSS_SELECTOR, 'a.subtle-link.fin-size-small.titles.noUnderline.yf-1xqzjha h3')\n",
    "                    description_tag = item.find_element(By.CSS_SELECTOR, 'a.subtle-link.fin-size-small.titles.noUnderline.yf-1xqzjha p.clamp.yf-18q3fnf')\n",
    "                    titles.append(title_tag.text)\n",
    "                    descriptions.append(description_tag.text)\n",
    "                except NoSuchElementException:\n",
    "                    continue\n",
    "            \n",
    "            # Return the titles and descriptions if any\n",
    "            return titles, descriptions if titles and descriptions else f\"{symbol} - No news\"\n",
    "        \n",
    "        except TimeoutException:\n",
    "            return f\"{symbol} - No news\"\n",
    "    \n",
    "    finally:\n",
    "        # Close the WebDriver\n",
    "        driver.quit()\n",
    "\n"
   ]
  },
  {
   "cell_type": "code",
   "execution_count": 46,
   "metadata": {},
   "outputs": [],
   "source": [
    "from textblob import TextBlob\n",
    "\n",
    "def news_analysis(news):\n",
    "    \n",
    "    # Check the input type\n",
    "    if isinstance(news, str):\n",
    "        return \"NEUTRAL\"\n",
    "\n",
    "    if not isinstance(news, tuple) or len(news) != 2:\n",
    "        raise ValueError(\"Input must be a tuple with two elements: (titles, descriptions).\")\n",
    "\n",
    "    titles, descriptions = news\n",
    "\n",
    "    if not (isinstance(titles, list) and isinstance(descriptions, list)):\n",
    "        raise ValueError(\"Both titles and descriptions must be lists.\")\n",
    "\n",
    "    if len(titles) != len(descriptions):\n",
    "        raise ValueError(\"Titles and descriptions lists must have the same length.\")\n",
    "\n",
    "    sentiment_record = {\"positive\": 0, \"negative\": 0, \"neutral\": 0}\n",
    "\n",
    "    # Perform sentiment analysis\n",
    "    for title, description in zip(titles, descriptions):\n",
    "        text = f\"{title} {description}\"\n",
    "        analysis = TextBlob(text).sentiment.polarity\n",
    "\n",
    "        if analysis > 0:\n",
    "            sentiment_record[\"positive\"] += 1\n",
    "        elif analysis < 0:\n",
    "            sentiment_record[\"negative\"] += 1\n",
    "        else:\n",
    "            sentiment_record[\"neutral\"] += 1\n",
    "\n",
    "    print(sentiment_record)\n",
    "\n",
    "    # Determine final sentiment\n",
    "    if sentiment_record[\"positive\"] > max(sentiment_record[\"negative\"], sentiment_record[\"neutral\"]):\n",
    "        return \"POSITIVE\"\n",
    "    elif sentiment_record[\"negative\"] > max(sentiment_record[\"positive\"], sentiment_record[\"neutral\"]):\n",
    "        return \"NEGATIVE\"\n",
    "    else:\n",
    "        return \"NEUTRAL\"\n",
    "\n",
    "\n"
   ]
  },
  {
   "cell_type": "code",
   "execution_count": 47,
   "metadata": {},
   "outputs": [],
   "source": [
    "symbol_list = (nse_df['symbol']).tolist()"
   ]
  },
  {
   "cell_type": "code",
   "execution_count": 48,
   "metadata": {},
   "outputs": [
    {
     "name": "stdout",
     "output_type": "stream",
     "text": [
      "LTIM\n",
      "{'positive': 9, 'negative': 4, 'neutral': 7}\n",
      "TECHM\n",
      "{'positive': 15, 'negative': 4, 'neutral': 1}\n",
      "IRCTC\n",
      "WIPRO\n",
      "{'positive': 8, 'negative': 6, 'neutral': 6}\n",
      "MGL\n",
      "{'positive': 1, 'negative': 0, 'neutral': 0}\n",
      "PERSISTENT\n",
      "{'positive': 15, 'negative': 5, 'neutral': 0}\n",
      "LTTS\n",
      "{'positive': 6, 'negative': 6, 'neutral': 8}\n",
      "INFY\n",
      "{'positive': 7, 'negative': 5, 'neutral': 8}\n",
      "HCLTECH\n",
      "{'positive': 19, 'negative': 1, 'neutral': 0}\n",
      "MPHASIS\n",
      "{'positive': 2, 'negative': 0, 'neutral': 0}\n",
      "BSOFT\n",
      "{'positive': 1, 'negative': 0, 'neutral': 0}\n",
      "COFORGE\n",
      "{'positive': 13, 'negative': 2, 'neutral': 0}\n",
      "NATIONALUM\n",
      "{'positive': 1, 'negative': 0, 'neutral': 0}\n",
      "BATAINDIA\n",
      "HINDPETRO\n",
      "{'positive': 2, 'negative': 2, 'neutral': 1}\n",
      "HINDCOPPER\n",
      "AUBANK\n"
     ]
    },
    {
     "ename": "SessionNotCreatedException",
     "evalue": "Message: session not created: Chrome failed to start: exited normally.\n  (session not created: DevToolsActivePort file doesn't exist)\n  (The process started from chrome location C:\\Program Files\\Google\\Chrome\\Application\\chrome.exe is no longer running, so ChromeDriver is assuming that Chrome has crashed.)\nStacktrace:\n\tGetHandleVerifier [0x00007FF735CB80D5+2992373]\n\t(No symbol) [0x00007FF73594BFD0]\n\t(No symbol) [0x00007FF7357E590A]\n\t(No symbol) [0x00007FF7358201C0]\n\t(No symbol) [0x00007FF73581BC39]\n\t(No symbol) [0x00007FF73586A6AC]\n\t(No symbol) [0x00007FF735869C90]\n\t(No symbol) [0x00007FF73585F113]\n\t(No symbol) [0x00007FF73582A918]\n\t(No symbol) [0x00007FF73582BA81]\n\tGetHandleVerifier [0x00007FF735D16A2D+3379789]\n\tGetHandleVerifier [0x00007FF735D2C32D+3468109]\n\tGetHandleVerifier [0x00007FF735D20043+3418211]\n\tGetHandleVerifier [0x00007FF735AAC78B+847787]\n\t(No symbol) [0x00007FF73595757F]\n\t(No symbol) [0x00007FF735952FC4]\n\t(No symbol) [0x00007FF73595315D]\n\t(No symbol) [0x00007FF735942979]\n\tBaseThreadInitThunk [0x00007FFC8D6E259D+29]\n\tRtlUserThreadStart [0x00007FFC8F36AF38+40]\n",
     "output_type": "error",
     "traceback": [
      "\u001b[1;31m---------------------------------------------------------------------------\u001b[0m",
      "\u001b[1;31mSessionNotCreatedException\u001b[0m                Traceback (most recent call last)",
      "Cell \u001b[1;32mIn[48], line 4\u001b[0m\n\u001b[0;32m      1\u001b[0m NEWS \u001b[38;5;241m=\u001b[39m []\n\u001b[0;32m      3\u001b[0m \u001b[38;5;28;01mfor\u001b[39;00m symbol \u001b[38;5;129;01min\u001b[39;00m symbol_list:\n\u001b[1;32m----> 4\u001b[0m     news \u001b[38;5;241m=\u001b[39m \u001b[43mscrape_yahoo_finance_news\u001b[49m\u001b[43m(\u001b[49m\u001b[43msymbol\u001b[49m\u001b[43m)\u001b[49m\n\u001b[0;32m      5\u001b[0m     result \u001b[38;5;241m=\u001b[39m news_analysis(news)\n\u001b[0;32m      6\u001b[0m     NEWS\u001b[38;5;241m.\u001b[39mappend(result)\n",
      "Cell \u001b[1;32mIn[45], line 21\u001b[0m, in \u001b[0;36mscrape_yahoo_finance_news\u001b[1;34m(symbol)\u001b[0m\n\u001b[0;32m     18\u001b[0m chrome_options\u001b[38;5;241m.\u001b[39madd_argument(\u001b[38;5;124m\"\u001b[39m\u001b[38;5;124m--disable-gpu\u001b[39m\u001b[38;5;124m\"\u001b[39m)\n\u001b[0;32m     19\u001b[0m chrome_options\u001b[38;5;241m.\u001b[39madd_argument(\u001b[38;5;124m\"\u001b[39m\u001b[38;5;124m--no-sandbox\u001b[39m\u001b[38;5;124m\"\u001b[39m)\n\u001b[1;32m---> 21\u001b[0m driver \u001b[38;5;241m=\u001b[39m \u001b[43mwebdriver\u001b[49m\u001b[38;5;241;43m.\u001b[39;49m\u001b[43mChrome\u001b[49m\u001b[43m(\u001b[49m\u001b[43moptions\u001b[49m\u001b[38;5;241;43m=\u001b[39;49m\u001b[43mchrome_options\u001b[49m\u001b[43m)\u001b[49m\n\u001b[0;32m     23\u001b[0m \u001b[38;5;66;03m# Construct the URL dynamically\u001b[39;00m\n\u001b[0;32m     24\u001b[0m url \u001b[38;5;241m=\u001b[39m \u001b[38;5;124mf\u001b[39m\u001b[38;5;124m\"\u001b[39m\u001b[38;5;124mhttps://finance.yahoo.com/quote/\u001b[39m\u001b[38;5;132;01m{\u001b[39;00msymbol\u001b[38;5;132;01m}\u001b[39;00m\u001b[38;5;124m.NS/news/\u001b[39m\u001b[38;5;124m\"\u001b[39m\n",
      "File \u001b[1;32m~\\AppData\\Local\\Packages\\PythonSoftwareFoundation.Python.3.11_qbz5n2kfra8p0\\LocalCache\\local-packages\\Python311\\site-packages\\selenium\\webdriver\\chrome\\webdriver.py:45\u001b[0m, in \u001b[0;36mWebDriver.__init__\u001b[1;34m(self, options, service, keep_alive)\u001b[0m\n\u001b[0;32m     42\u001b[0m service \u001b[38;5;241m=\u001b[39m service \u001b[38;5;28;01mif\u001b[39;00m service \u001b[38;5;28;01melse\u001b[39;00m Service()\n\u001b[0;32m     43\u001b[0m options \u001b[38;5;241m=\u001b[39m options \u001b[38;5;28;01mif\u001b[39;00m options \u001b[38;5;28;01melse\u001b[39;00m Options()\n\u001b[1;32m---> 45\u001b[0m \u001b[38;5;28;43msuper\u001b[39;49m\u001b[43m(\u001b[49m\u001b[43m)\u001b[49m\u001b[38;5;241;43m.\u001b[39;49m\u001b[38;5;21;43m__init__\u001b[39;49m\u001b[43m(\u001b[49m\n\u001b[0;32m     46\u001b[0m \u001b[43m    \u001b[49m\u001b[43mbrowser_name\u001b[49m\u001b[38;5;241;43m=\u001b[39;49m\u001b[43mDesiredCapabilities\u001b[49m\u001b[38;5;241;43m.\u001b[39;49m\u001b[43mCHROME\u001b[49m\u001b[43m[\u001b[49m\u001b[38;5;124;43m\"\u001b[39;49m\u001b[38;5;124;43mbrowserName\u001b[39;49m\u001b[38;5;124;43m\"\u001b[39;49m\u001b[43m]\u001b[49m\u001b[43m,\u001b[49m\n\u001b[0;32m     47\u001b[0m \u001b[43m    \u001b[49m\u001b[43mvendor_prefix\u001b[49m\u001b[38;5;241;43m=\u001b[39;49m\u001b[38;5;124;43m\"\u001b[39;49m\u001b[38;5;124;43mgoog\u001b[39;49m\u001b[38;5;124;43m\"\u001b[39;49m\u001b[43m,\u001b[49m\n\u001b[0;32m     48\u001b[0m \u001b[43m    \u001b[49m\u001b[43moptions\u001b[49m\u001b[38;5;241;43m=\u001b[39;49m\u001b[43moptions\u001b[49m\u001b[43m,\u001b[49m\n\u001b[0;32m     49\u001b[0m \u001b[43m    \u001b[49m\u001b[43mservice\u001b[49m\u001b[38;5;241;43m=\u001b[39;49m\u001b[43mservice\u001b[49m\u001b[43m,\u001b[49m\n\u001b[0;32m     50\u001b[0m \u001b[43m    \u001b[49m\u001b[43mkeep_alive\u001b[49m\u001b[38;5;241;43m=\u001b[39;49m\u001b[43mkeep_alive\u001b[49m\u001b[43m,\u001b[49m\n\u001b[0;32m     51\u001b[0m \u001b[43m\u001b[49m\u001b[43m)\u001b[49m\n",
      "File \u001b[1;32m~\\AppData\\Local\\Packages\\PythonSoftwareFoundation.Python.3.11_qbz5n2kfra8p0\\LocalCache\\local-packages\\Python311\\site-packages\\selenium\\webdriver\\chromium\\webdriver.py:66\u001b[0m, in \u001b[0;36mChromiumDriver.__init__\u001b[1;34m(self, browser_name, vendor_prefix, options, service, keep_alive)\u001b[0m\n\u001b[0;32m     57\u001b[0m executor \u001b[38;5;241m=\u001b[39m ChromiumRemoteConnection(\n\u001b[0;32m     58\u001b[0m     remote_server_addr\u001b[38;5;241m=\u001b[39m\u001b[38;5;28mself\u001b[39m\u001b[38;5;241m.\u001b[39mservice\u001b[38;5;241m.\u001b[39mservice_url,\n\u001b[0;32m     59\u001b[0m     browser_name\u001b[38;5;241m=\u001b[39mbrowser_name,\n\u001b[1;32m   (...)\u001b[0m\n\u001b[0;32m     62\u001b[0m     ignore_proxy\u001b[38;5;241m=\u001b[39moptions\u001b[38;5;241m.\u001b[39m_ignore_local_proxy,\n\u001b[0;32m     63\u001b[0m )\n\u001b[0;32m     65\u001b[0m \u001b[38;5;28;01mtry\u001b[39;00m:\n\u001b[1;32m---> 66\u001b[0m     \u001b[38;5;28;43msuper\u001b[39;49m\u001b[43m(\u001b[49m\u001b[43m)\u001b[49m\u001b[38;5;241;43m.\u001b[39;49m\u001b[38;5;21;43m__init__\u001b[39;49m\u001b[43m(\u001b[49m\u001b[43mcommand_executor\u001b[49m\u001b[38;5;241;43m=\u001b[39;49m\u001b[43mexecutor\u001b[49m\u001b[43m,\u001b[49m\u001b[43m \u001b[49m\u001b[43moptions\u001b[49m\u001b[38;5;241;43m=\u001b[39;49m\u001b[43moptions\u001b[49m\u001b[43m)\u001b[49m\n\u001b[0;32m     67\u001b[0m \u001b[38;5;28;01mexcept\u001b[39;00m \u001b[38;5;167;01mException\u001b[39;00m:\n\u001b[0;32m     68\u001b[0m     \u001b[38;5;28mself\u001b[39m\u001b[38;5;241m.\u001b[39mquit()\n",
      "File \u001b[1;32m~\\AppData\\Local\\Packages\\PythonSoftwareFoundation.Python.3.11_qbz5n2kfra8p0\\LocalCache\\local-packages\\Python311\\site-packages\\selenium\\webdriver\\remote\\webdriver.py:241\u001b[0m, in \u001b[0;36mWebDriver.__init__\u001b[1;34m(self, command_executor, keep_alive, file_detector, options, locator_converter, web_element_cls, client_config)\u001b[0m\n\u001b[0;32m    239\u001b[0m \u001b[38;5;28mself\u001b[39m\u001b[38;5;241m.\u001b[39m_authenticator_id \u001b[38;5;241m=\u001b[39m \u001b[38;5;28;01mNone\u001b[39;00m\n\u001b[0;32m    240\u001b[0m \u001b[38;5;28mself\u001b[39m\u001b[38;5;241m.\u001b[39mstart_client()\n\u001b[1;32m--> 241\u001b[0m \u001b[38;5;28;43mself\u001b[39;49m\u001b[38;5;241;43m.\u001b[39;49m\u001b[43mstart_session\u001b[49m\u001b[43m(\u001b[49m\u001b[43mcapabilities\u001b[49m\u001b[43m)\u001b[49m\n\u001b[0;32m    242\u001b[0m \u001b[38;5;28mself\u001b[39m\u001b[38;5;241m.\u001b[39m_fedcm \u001b[38;5;241m=\u001b[39m FedCM(\u001b[38;5;28mself\u001b[39m)\n\u001b[0;32m    244\u001b[0m \u001b[38;5;28mself\u001b[39m\u001b[38;5;241m.\u001b[39m_websocket_connection \u001b[38;5;241m=\u001b[39m \u001b[38;5;28;01mNone\u001b[39;00m\n",
      "File \u001b[1;32m~\\AppData\\Local\\Packages\\PythonSoftwareFoundation.Python.3.11_qbz5n2kfra8p0\\LocalCache\\local-packages\\Python311\\site-packages\\selenium\\webdriver\\remote\\webdriver.py:329\u001b[0m, in \u001b[0;36mWebDriver.start_session\u001b[1;34m(self, capabilities)\u001b[0m\n\u001b[0;32m    322\u001b[0m \u001b[38;5;250m\u001b[39m\u001b[38;5;124;03m\"\"\"Creates a new session with the desired capabilities.\u001b[39;00m\n\u001b[0;32m    323\u001b[0m \n\u001b[0;32m    324\u001b[0m \u001b[38;5;124;03m:Args:\u001b[39;00m\n\u001b[0;32m    325\u001b[0m \u001b[38;5;124;03m - capabilities - a capabilities dict to start the session with.\u001b[39;00m\n\u001b[0;32m    326\u001b[0m \u001b[38;5;124;03m\"\"\"\u001b[39;00m\n\u001b[0;32m    328\u001b[0m caps \u001b[38;5;241m=\u001b[39m _create_caps(capabilities)\n\u001b[1;32m--> 329\u001b[0m response \u001b[38;5;241m=\u001b[39m \u001b[38;5;28;43mself\u001b[39;49m\u001b[38;5;241;43m.\u001b[39;49m\u001b[43mexecute\u001b[49m\u001b[43m(\u001b[49m\u001b[43mCommand\u001b[49m\u001b[38;5;241;43m.\u001b[39;49m\u001b[43mNEW_SESSION\u001b[49m\u001b[43m,\u001b[49m\u001b[43m \u001b[49m\u001b[43mcaps\u001b[49m\u001b[43m)\u001b[49m[\u001b[38;5;124m\"\u001b[39m\u001b[38;5;124mvalue\u001b[39m\u001b[38;5;124m\"\u001b[39m]\n\u001b[0;32m    330\u001b[0m \u001b[38;5;28mself\u001b[39m\u001b[38;5;241m.\u001b[39msession_id \u001b[38;5;241m=\u001b[39m response\u001b[38;5;241m.\u001b[39mget(\u001b[38;5;124m\"\u001b[39m\u001b[38;5;124msessionId\u001b[39m\u001b[38;5;124m\"\u001b[39m)\n\u001b[0;32m    331\u001b[0m \u001b[38;5;28mself\u001b[39m\u001b[38;5;241m.\u001b[39mcaps \u001b[38;5;241m=\u001b[39m response\u001b[38;5;241m.\u001b[39mget(\u001b[38;5;124m\"\u001b[39m\u001b[38;5;124mcapabilities\u001b[39m\u001b[38;5;124m\"\u001b[39m)\n",
      "File \u001b[1;32m~\\AppData\\Local\\Packages\\PythonSoftwareFoundation.Python.3.11_qbz5n2kfra8p0\\LocalCache\\local-packages\\Python311\\site-packages\\selenium\\webdriver\\remote\\webdriver.py:384\u001b[0m, in \u001b[0;36mWebDriver.execute\u001b[1;34m(self, driver_command, params)\u001b[0m\n\u001b[0;32m    382\u001b[0m response \u001b[38;5;241m=\u001b[39m \u001b[38;5;28mself\u001b[39m\u001b[38;5;241m.\u001b[39mcommand_executor\u001b[38;5;241m.\u001b[39mexecute(driver_command, params)\n\u001b[0;32m    383\u001b[0m \u001b[38;5;28;01mif\u001b[39;00m response:\n\u001b[1;32m--> 384\u001b[0m     \u001b[38;5;28;43mself\u001b[39;49m\u001b[38;5;241;43m.\u001b[39;49m\u001b[43merror_handler\u001b[49m\u001b[38;5;241;43m.\u001b[39;49m\u001b[43mcheck_response\u001b[49m\u001b[43m(\u001b[49m\u001b[43mresponse\u001b[49m\u001b[43m)\u001b[49m\n\u001b[0;32m    385\u001b[0m     response[\u001b[38;5;124m\"\u001b[39m\u001b[38;5;124mvalue\u001b[39m\u001b[38;5;124m\"\u001b[39m] \u001b[38;5;241m=\u001b[39m \u001b[38;5;28mself\u001b[39m\u001b[38;5;241m.\u001b[39m_unwrap_value(response\u001b[38;5;241m.\u001b[39mget(\u001b[38;5;124m\"\u001b[39m\u001b[38;5;124mvalue\u001b[39m\u001b[38;5;124m\"\u001b[39m, \u001b[38;5;28;01mNone\u001b[39;00m))\n\u001b[0;32m    386\u001b[0m     \u001b[38;5;28;01mreturn\u001b[39;00m response\n",
      "File \u001b[1;32m~\\AppData\\Local\\Packages\\PythonSoftwareFoundation.Python.3.11_qbz5n2kfra8p0\\LocalCache\\local-packages\\Python311\\site-packages\\selenium\\webdriver\\remote\\errorhandler.py:232\u001b[0m, in \u001b[0;36mErrorHandler.check_response\u001b[1;34m(self, response)\u001b[0m\n\u001b[0;32m    230\u001b[0m         alert_text \u001b[38;5;241m=\u001b[39m value[\u001b[38;5;124m\"\u001b[39m\u001b[38;5;124malert\u001b[39m\u001b[38;5;124m\"\u001b[39m]\u001b[38;5;241m.\u001b[39mget(\u001b[38;5;124m\"\u001b[39m\u001b[38;5;124mtext\u001b[39m\u001b[38;5;124m\"\u001b[39m)\n\u001b[0;32m    231\u001b[0m     \u001b[38;5;28;01mraise\u001b[39;00m exception_class(message, screen, stacktrace, alert_text)  \u001b[38;5;66;03m# type: ignore[call-arg]  # mypy is not smart enough here\u001b[39;00m\n\u001b[1;32m--> 232\u001b[0m \u001b[38;5;28;01mraise\u001b[39;00m exception_class(message, screen, stacktrace)\n",
      "\u001b[1;31mSessionNotCreatedException\u001b[0m: Message: session not created: Chrome failed to start: exited normally.\n  (session not created: DevToolsActivePort file doesn't exist)\n  (The process started from chrome location C:\\Program Files\\Google\\Chrome\\Application\\chrome.exe is no longer running, so ChromeDriver is assuming that Chrome has crashed.)\nStacktrace:\n\tGetHandleVerifier [0x00007FF735CB80D5+2992373]\n\t(No symbol) [0x00007FF73594BFD0]\n\t(No symbol) [0x00007FF7357E590A]\n\t(No symbol) [0x00007FF7358201C0]\n\t(No symbol) [0x00007FF73581BC39]\n\t(No symbol) [0x00007FF73586A6AC]\n\t(No symbol) [0x00007FF735869C90]\n\t(No symbol) [0x00007FF73585F113]\n\t(No symbol) [0x00007FF73582A918]\n\t(No symbol) [0x00007FF73582BA81]\n\tGetHandleVerifier [0x00007FF735D16A2D+3379789]\n\tGetHandleVerifier [0x00007FF735D2C32D+3468109]\n\tGetHandleVerifier [0x00007FF735D20043+3418211]\n\tGetHandleVerifier [0x00007FF735AAC78B+847787]\n\t(No symbol) [0x00007FF73595757F]\n\t(No symbol) [0x00007FF735952FC4]\n\t(No symbol) [0x00007FF73595315D]\n\t(No symbol) [0x00007FF735942979]\n\tBaseThreadInitThunk [0x00007FFC8D6E259D+29]\n\tRtlUserThreadStart [0x00007FFC8F36AF38+40]\n"
     ]
    }
   ],
   "source": [
    "NEWS = []\n",
    "\n",
    "for symbol in symbol_list:\n",
    "    news = scrape_yahoo_finance_news(symbol)\n",
    "    result = news_analysis(news)\n",
    "    NEWS.append(result)"
   ]
  },
  {
   "cell_type": "markdown",
   "metadata": {},
   "source": [
    "#### Continue Here"
   ]
  },
  {
   "cell_type": "code",
   "execution_count": null,
   "metadata": {},
   "outputs": [
    {
     "data": {
      "text/html": [
       "<div>\n",
       "<style scoped>\n",
       "    .dataframe tbody tr th:only-of-type {\n",
       "        vertical-align: middle;\n",
       "    }\n",
       "\n",
       "    .dataframe tbody tr th {\n",
       "        vertical-align: top;\n",
       "    }\n",
       "\n",
       "    .dataframe thead th {\n",
       "        text-align: right;\n",
       "    }\n",
       "</style>\n",
       "<table border=\"1\" class=\"dataframe\">\n",
       "  <thead>\n",
       "    <tr style=\"text-align: right;\">\n",
       "      <th></th>\n",
       "      <th>symbol</th>\n",
       "      <th>companyName</th>\n",
       "      <th>open</th>\n",
       "      <th>dayHigh</th>\n",
       "      <th>dayLow</th>\n",
       "      <th>52w_High</th>\n",
       "      <th>52w_Low</th>\n",
       "      <th>Current_price</th>\n",
       "      <th>industry</th>\n",
       "      <th>isin</th>\n",
       "      <th>DELIV_QTY</th>\n",
       "      <th>LOSING_DAYS</th>\n",
       "      <th>going_towards</th>\n",
       "      <th>change%</th>\n",
       "      <th>Profit Analysis</th>\n",
       "      <th>Sales Analysis</th>\n",
       "      <th>Debt Analysis</th>\n",
       "      <th>News</th>\n",
       "    </tr>\n",
       "  </thead>\n",
       "  <tbody>\n",
       "    <tr>\n",
       "      <th>0</th>\n",
       "      <td>INDIAMART</td>\n",
       "      <td>Indiamart Intermesh Limited</td>\n",
       "      <td>2218.00</td>\n",
       "      <td>2312.70</td>\n",
       "      <td>2188.90</td>\n",
       "      <td>3198.40</td>\n",
       "      <td>2165.55</td>\n",
       "      <td>2305.00</td>\n",
       "      <td>Internet &amp; Catalogue Retail</td>\n",
       "      <td>INE933S01016</td>\n",
       "      <td>242006</td>\n",
       "      <td>17</td>\n",
       "      <td>Low</td>\n",
       "      <td>3.92</td>\n",
       "      <td>Not Recommended</td>\n",
       "      <td>Highly Recommended</td>\n",
       "      <td>Highly Recommended</td>\n",
       "      <td>NEUTRAL</td>\n",
       "    </tr>\n",
       "    <tr>\n",
       "      <th>1</th>\n",
       "      <td>BSE</td>\n",
       "      <td>BSE Limited</td>\n",
       "      <td>5090.00</td>\n",
       "      <td>5465.00</td>\n",
       "      <td>5090.00</td>\n",
       "      <td>5837.95</td>\n",
       "      <td>1941.05</td>\n",
       "      <td>5360.50</td>\n",
       "      <td>Exchange and Data Platform</td>\n",
       "      <td>INE118H01025</td>\n",
       "      <td>402345</td>\n",
       "      <td>13</td>\n",
       "      <td>High</td>\n",
       "      <td>5.31</td>\n",
       "      <td>Caution need Monitoring</td>\n",
       "      <td>Highly Recommended</td>\n",
       "      <td>Highly Recommended</td>\n",
       "      <td>POSITIVE</td>\n",
       "    </tr>\n",
       "    <tr>\n",
       "      <th>2</th>\n",
       "      <td>NCC</td>\n",
       "      <td>NCC Limited</td>\n",
       "      <td>262.00</td>\n",
       "      <td>274.95</td>\n",
       "      <td>262.00</td>\n",
       "      <td>364.50</td>\n",
       "      <td>171.55</td>\n",
       "      <td>273.30</td>\n",
       "      <td>Civil Construction</td>\n",
       "      <td>INE868B01028</td>\n",
       "      <td>1628416</td>\n",
       "      <td>17</td>\n",
       "      <td>High</td>\n",
       "      <td>4.31</td>\n",
       "      <td>Highly Recommended</td>\n",
       "      <td>Highly Recommended</td>\n",
       "      <td>Recommended</td>\n",
       "      <td>POSITIVE</td>\n",
       "    </tr>\n",
       "    <tr>\n",
       "      <th>3</th>\n",
       "      <td>CHAMBLFERT</td>\n",
       "      <td>Chambal Fertilizers &amp; Chemicals Limited</td>\n",
       "      <td>480.95</td>\n",
       "      <td>505.50</td>\n",
       "      <td>480.65</td>\n",
       "      <td>574.35</td>\n",
       "      <td>332.05</td>\n",
       "      <td>502.55</td>\n",
       "      <td>Fertilizers</td>\n",
       "      <td>INE085A01013</td>\n",
       "      <td>633723</td>\n",
       "      <td>22</td>\n",
       "      <td>High</td>\n",
       "      <td>4.49</td>\n",
       "      <td>Not Recommended</td>\n",
       "      <td>Recommended</td>\n",
       "      <td>Caution need monitoring</td>\n",
       "      <td>NEUTRAL</td>\n",
       "    </tr>\n",
       "    <tr>\n",
       "      <th>4</th>\n",
       "      <td>CYIENT</td>\n",
       "      <td>Cyient Limited</td>\n",
       "      <td>1751.00</td>\n",
       "      <td>1837.70</td>\n",
       "      <td>1749.15</td>\n",
       "      <td>2365.00</td>\n",
       "      <td>1651.50</td>\n",
       "      <td>1831.20</td>\n",
       "      <td>IT Enabled Services</td>\n",
       "      <td>INE136B01020</td>\n",
       "      <td>223347</td>\n",
       "      <td>18</td>\n",
       "      <td>Low</td>\n",
       "      <td>4.58</td>\n",
       "      <td>Highly Recommended</td>\n",
       "      <td>Highly Recommended</td>\n",
       "      <td>Caution need monitoring</td>\n",
       "      <td>NEUTRAL</td>\n",
       "    </tr>\n",
       "  </tbody>\n",
       "</table>\n",
       "</div>"
      ],
      "text/plain": [
       "       symbol                              companyName     open  dayHigh  \\\n",
       "0   INDIAMART              Indiamart Intermesh Limited  2218.00  2312.70   \n",
       "1         BSE                              BSE Limited  5090.00  5465.00   \n",
       "2         NCC                              NCC Limited   262.00   274.95   \n",
       "3  CHAMBLFERT  Chambal Fertilizers & Chemicals Limited   480.95   505.50   \n",
       "4      CYIENT                           Cyient Limited  1751.00  1837.70   \n",
       "\n",
       "    dayLow  52w_High  52w_Low  Current_price                     industry  \\\n",
       "0  2188.90   3198.40  2165.55        2305.00  Internet & Catalogue Retail   \n",
       "1  5090.00   5837.95  1941.05        5360.50   Exchange and Data Platform   \n",
       "2   262.00    364.50   171.55         273.30           Civil Construction   \n",
       "3   480.65    574.35   332.05         502.55                  Fertilizers   \n",
       "4  1749.15   2365.00  1651.50        1831.20          IT Enabled Services   \n",
       "\n",
       "           isin  DELIV_QTY  LOSING_DAYS going_towards change%  \\\n",
       "0  INE933S01016     242006           17           Low    3.92   \n",
       "1  INE118H01025     402345           13          High    5.31   \n",
       "2  INE868B01028    1628416           17          High    4.31   \n",
       "3  INE085A01013     633723           22          High    4.49   \n",
       "4  INE136B01020     223347           18           Low    4.58   \n",
       "\n",
       "           Profit Analysis      Sales Analysis            Debt Analysis  \\\n",
       "0          Not Recommended  Highly Recommended       Highly Recommended   \n",
       "1  Caution need Monitoring  Highly Recommended       Highly Recommended   \n",
       "2       Highly Recommended  Highly Recommended              Recommended   \n",
       "3          Not Recommended         Recommended  Caution need monitoring   \n",
       "4       Highly Recommended  Highly Recommended  Caution need monitoring   \n",
       "\n",
       "       News  \n",
       "0   NEUTRAL  \n",
       "1  POSITIVE  \n",
       "2  POSITIVE  \n",
       "3   NEUTRAL  \n",
       "4   NEUTRAL  "
      ]
     },
     "execution_count": 48,
     "metadata": {},
     "output_type": "execute_result"
    }
   ],
   "source": [
    "nse_df[\"News\"] = NEWS\n",
    "nse_df.head()"
   ]
  },
  {
   "cell_type": "code",
   "execution_count": null,
   "metadata": {},
   "outputs": [
    {
     "ename": "NameError",
     "evalue": "name 'nse_df' is not defined",
     "output_type": "error",
     "traceback": [
      "\u001b[1;31m---------------------------------------------------------------------------\u001b[0m",
      "\u001b[1;31mNameError\u001b[0m                                 Traceback (most recent call last)",
      "Cell \u001b[1;32mIn[1], line 1\u001b[0m\n\u001b[1;32m----> 1\u001b[0m \u001b[43mnse_df\u001b[49m\u001b[38;5;241m.\u001b[39mhead()\n",
      "\u001b[1;31mNameError\u001b[0m: name 'nse_df' is not defined"
     ]
    }
   ],
   "source": [
    "nse_df.head()"
   ]
  },
  {
   "cell_type": "code",
   "execution_count": null,
   "metadata": {
    "colab": {
     "base_uri": "https://localhost:8080/"
    },
    "id": "3RheWN59AvCn",
    "outputId": "3decb93c-f8a1-42cf-a4b4-09b8ea8f2933"
   },
   "outputs": [
    {
     "name": "stdout",
     "output_type": "stream",
     "text": [
      "File downloaded\n"
     ]
    }
   ],
   "source": [
    "# Downloading the above data as excel sheet\n",
    "\n",
    "file_path = \" Today's_data.xlsx\"\n",
    "date = datetime.now().date()\n",
    "date = date.strftime(\"%d-%m-%Y\")\n",
    "file_path = date + file_path\n",
    "nse_df.to_excel(file_path, index = False)\n",
    "print(\"File downloaded\")"
   ]
  },
  {
   "cell_type": "code",
   "execution_count": null,
   "metadata": {},
   "outputs": [],
   "source": []
  }
 ],
 "metadata": {
  "colab": {
   "provenance": []
  },
  "kernelspec": {
   "display_name": "Python 3",
   "language": "python",
   "name": "python3"
  },
  "language_info": {
   "codemirror_mode": {
    "name": "ipython",
    "version": 3
   },
   "file_extension": ".py",
   "mimetype": "text/x-python",
   "name": "python",
   "nbconvert_exporter": "python",
   "pygments_lexer": "ipython3",
   "version": "3.11.9"
  }
 },
 "nbformat": 4,
 "nbformat_minor": 0
}
