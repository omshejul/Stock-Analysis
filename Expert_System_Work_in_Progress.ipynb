{
 "cells": [
  {
   "cell_type": "code",
   "execution_count": 2,
   "metadata": {
    "id": "mgGDo5XuswIw"
   },
   "outputs": [],
   "source": [
    "import pandas as pd\n",
    "from nsepython import *\n",
    "import numpy as np\n",
    "from nsepy import *\n",
    "from datetime import datetime, timedelta"
   ]
  },
  {
   "cell_type": "code",
   "execution_count": 3,
   "metadata": {
    "id": "BzJKN9maiJp_"
   },
   "outputs": [],
   "source": [
    "# Fetch data for Nifty 50\n",
    "nifty_data = nsefetch('https://www.nseindia.com/api/equity-stockIndices?index=SECURITIES%20IN%20F%26O')"
   ]
  },
  {
   "cell_type": "code",
   "execution_count": 4,
   "metadata": {
    "id": "GDJCocWK0_W1"
   },
   "outputs": [],
   "source": [
    "key_list = list(nifty_data.keys())"
   ]
  },
  {
   "cell_type": "code",
   "execution_count": null,
   "metadata": {
    "colab": {
     "base_uri": "https://localhost:8080/"
    },
    "id": "Vusui9BNhBzC",
    "outputId": "864a2947-e0f1-4909-e37d-12a7b8f03bb2"
   },
   "outputs": [],
   "source": [
    "key_list"
   ]
  },
  {
   "cell_type": "code",
   "execution_count": 6,
   "metadata": {
    "id": "f_B23kHN1RLi"
   },
   "outputs": [],
   "source": [
    "df = pd.DataFrame(nifty_data['data'])\n",
    "df = df.drop(0)"
   ]
  },
  {
   "cell_type": "code",
   "execution_count": null,
   "metadata": {
    "colab": {
     "base_uri": "https://localhost:8080/"
    },
    "id": "wQqcs94ehSsP",
    "outputId": "9623d5b0-3fc4-46e7-e027-1b65d48962e0"
   },
   "outputs": [],
   "source": [
    "len(df)"
   ]
  },
  {
   "cell_type": "code",
   "execution_count": null,
   "metadata": {
    "colab": {
     "base_uri": "https://localhost:8080/"
    },
    "id": "YOecFLD-8lvI",
    "outputId": "26297f24-d4a3-4b76-d7e4-e3bb970501a5"
   },
   "outputs": [],
   "source": [
    "df.columns"
   ]
  },
  {
   "cell_type": "code",
   "execution_count": null,
   "metadata": {
    "colab": {
     "base_uri": "https://localhost:8080/",
     "height": 206
    },
    "id": "5BvGWdvb21hC",
    "outputId": "5680a5af-b3c6-4906-d527-42ccb8801ae2"
   },
   "outputs": [],
   "source": [
    "df_test = df[['symbol','open', 'dayHigh', 'dayLow','yearHigh', 'yearLow','lastPrice']]\n",
    "df_test.head()"
   ]
  },
  {
   "cell_type": "code",
   "execution_count": null,
   "metadata": {
    "colab": {
     "base_uri": "https://localhost:8080/",
     "height": 80
    },
    "id": "4RR_Kz9SCDrh",
    "outputId": "ad1acb26-96e9-4f73-a21d-b32cda1f9cf5"
   },
   "outputs": [],
   "source": [
    "details_list = []\n",
    "for i in range(1,182):\n",
    "  x = df['meta'][i]\n",
    "  del x['activeSeries']\n",
    "  del x['debtSeries']\n",
    "  del x['tempSuspendedSeries']\n",
    "  del x['isFNOSec']\n",
    "  del x['isCASec']\n",
    "  del x['isSLBSec']\n",
    "  del x['isDebtSec']\n",
    "  del x['isSuspended']\n",
    "  del x['isDelisted']\n",
    "  del x['isETFSec']\n",
    "  del x['quotepreopenstatus']\n",
    "  del x['listingDate']\n",
    "  #del x['slb_isin']\n",
    "  del x['isMunicipalBond']\n",
    "\n",
    "  details_list.append(pd.DataFrame([x]))\n",
    "\n",
    "details_list[24]"
   ]
  },
  {
   "cell_type": "code",
   "execution_count": null,
   "metadata": {
    "colab": {
     "base_uri": "https://localhost:8080/"
    },
    "id": "I0knOBgkD5X6",
    "outputId": "d2ed8122-05fe-4c02-ff3f-9ca3ed4236d1"
   },
   "outputs": [],
   "source": [
    "len(details_list)"
   ]
  },
  {
   "cell_type": "code",
   "execution_count": 12,
   "metadata": {
    "id": "1NCkoyLs7pnQ"
   },
   "outputs": [],
   "source": [
    "df_details = pd.concat(details_list[:], ignore_index=True)"
   ]
  },
  {
   "cell_type": "code",
   "execution_count": null,
   "metadata": {
    "colab": {
     "base_uri": "https://localhost:8080/",
     "height": 423
    },
    "id": "A5FnmF6BG-lQ",
    "outputId": "7a30b57e-10a3-4362-d0d9-72b7209ec794"
   },
   "outputs": [],
   "source": [
    "df_details"
   ]
  },
  {
   "cell_type": "code",
   "execution_count": 14,
   "metadata": {
    "id": "dgJ7RgHLBa89"
   },
   "outputs": [],
   "source": [
    "df_details = df_details.drop(columns=['slb_isin'])"
   ]
  },
  {
   "cell_type": "code",
   "execution_count": null,
   "metadata": {
    "colab": {
     "base_uri": "https://localhost:8080/",
     "height": 53
    },
    "id": "IHjzt4ejIDjO",
    "outputId": "7e6121b3-1e98-4652-b999-cffc4626708f"
   },
   "outputs": [],
   "source": [
    "df_details[df_details.isnull().any(axis=1)]"
   ]
  },
  {
   "cell_type": "code",
   "execution_count": 16,
   "metadata": {
    "id": "M-o0jTDLieki"
   },
   "outputs": [],
   "source": [
    "nse_df = pd.concat([df_test.set_index('symbol'), df_details.set_index('symbol')], axis = 1, join='outer').reset_index()"
   ]
  },
  {
   "cell_type": "code",
   "execution_count": null,
   "metadata": {
    "colab": {
     "base_uri": "https://localhost:8080/"
    },
    "id": "8le6i2Q6_AqV",
    "outputId": "08a13807-a269-4ee8-95b7-c7572371d694"
   },
   "outputs": [],
   "source": [
    "nse_df.columns"
   ]
  },
  {
   "cell_type": "code",
   "execution_count": 18,
   "metadata": {
    "id": "L_tfN8mY_d-Q"
   },
   "outputs": [],
   "source": [
    "nse_df = nse_df[['symbol','companyName', 'open', 'dayHigh', 'dayLow', 'yearHigh', 'yearLow', 'lastPrice', 'industry', 'isin']]"
   ]
  },
  {
   "cell_type": "code",
   "execution_count": 19,
   "metadata": {
    "id": "aRMtH6pf_tPQ"
   },
   "outputs": [],
   "source": [
    "nse_df.rename(columns={'yearHigh':'52w_High', 'yearLow':'52w_Low', 'lastPrice':'Current_price'}, inplace = True)"
   ]
  },
  {
   "cell_type": "code",
   "execution_count": null,
   "metadata": {
    "colab": {
     "base_uri": "https://localhost:8080/",
     "height": 35
    },
    "id": "xyC-Vw4YYLda",
    "outputId": "331fdc26-d280-486e-9586-14edbd89230f"
   },
   "outputs": [],
   "source": [
    "nse_df['symbol'][0]"
   ]
  },
  {
   "cell_type": "code",
   "execution_count": 21,
   "metadata": {
    "id": "Xx42Nb-c3bJ6"
   },
   "outputs": [],
   "source": [
    "keep_values = nse_df['symbol']\n",
    "keep_values = keep_values.tolist()"
   ]
  },
  {
   "cell_type": "code",
   "execution_count": null,
   "metadata": {
    "colab": {
     "base_uri": "https://localhost:8080/"
    },
    "id": "zwhgF41eEyzG",
    "outputId": "d0a42d1e-8b5a-4c49-dba3-3521cb5647e1"
   },
   "outputs": [],
   "source": [
    "import pytz\n",
    "time_zone = pytz.timezone('Asia/Kolkata')\n",
    "current_time = datetime.now().astimezone(time_zone)\n",
    "current_time = current_time.strftime('%H:%M')\n",
    "current_time = current_time.split(':')\n",
    "current_time = [int(x) for x in current_time]\n",
    "print(current_time)"
   ]
  },
  {
   "cell_type": "code",
   "execution_count": null,
   "metadata": {
    "colab": {
     "base_uri": "https://localhost:8080/"
    },
    "id": "nJX9ZeDAKoJ9",
    "outputId": "05d15b93-3ea5-4660-fbf4-c475a1116439"
   },
   "outputs": [],
   "source": [
    "current_time[1]"
   ]
  },
  {
   "cell_type": "code",
   "execution_count": null,
   "metadata": {
    "colab": {
     "base_uri": "https://localhost:8080/"
    },
    "id": "Z1l6m5xOKS8t",
    "outputId": "b00d320a-b377-4a8e-b960-11be07a68ff3"
   },
   "outputs": [],
   "source": [
    "current_date = datetime.now().date()\n",
    "day_of_week = current_date.weekday()\n",
    "if day_of_week == 5:\n",
    "   current_date = current_date - timedelta(days = 1)\n",
    "   print('date updated because it is saturday')\n",
    "\n",
    "if (current_time[0] < 18):\n",
    "    current_date = current_date - timedelta(days = 1)\n",
    "    print('date updated because time is less than 6 pm')\n",
    "    day_of_week = current_date.weekday()\n",
    "    if day_of_week == 5:\n",
    "     current_date = current_date - timedelta(days = 1)\n",
    "     print('date updated because it is saturday')\n",
    "\n",
    "\n",
    "\n",
    "current_date = current_date.strftime(\"%d-%m-%Y\")\n",
    "print(current_date)"
   ]
  },
  {
   "cell_type": "code",
   "execution_count": null,
   "metadata": {
    "colab": {
     "base_uri": "https://localhost:8080/",
     "height": 399
    },
    "id": "fVdZkoYU1qXu",
    "outputId": "8f5862ec-bc2b-4c1b-d7ff-c5a299468dc6"
   },
   "outputs": [],
   "source": [
    "y = get_bhavcopy(current_date)\n",
    "y = y[y['SYMBOL'].isin(keep_values)]\n",
    "y.head()"
   ]
  },
  {
   "cell_type": "code",
   "execution_count": null,
   "metadata": {
    "colab": {
     "base_uri": "https://localhost:8080/"
    },
    "id": "QXJaxbeAIXoa",
    "outputId": "667102fd-b8b1-43be-84ed-7a87ca521760"
   },
   "outputs": [],
   "source": [
    "series_list = [' EQ']\n",
    "y = y[y[' SERIES'].isin(series_list)]\n",
    "len(y)"
   ]
  },
  {
   "cell_type": "code",
   "execution_count": null,
   "metadata": {
    "colab": {
     "base_uri": "https://localhost:8080/",
     "height": 206
    },
    "id": "FJs3zAE44k09",
    "outputId": "3e83588b-f1b1-4be7-c555-5d774e3160ae"
   },
   "outputs": [],
   "source": [
    "y = y[['SYMBOL', ' DELIV_QTY']]\n",
    "y.head()"
   ]
  },
  {
   "cell_type": "code",
   "execution_count": 28,
   "metadata": {
    "id": "RvzcqhKMLJUN"
   },
   "outputs": [],
   "source": [
    "nse_df = pd.concat([nse_df.set_index('symbol'), y.set_index('SYMBOL')], axis = 1, join='outer').reset_index(names = 'symbol')"
   ]
  },
  {
   "cell_type": "code",
   "execution_count": null,
   "metadata": {
    "colab": {
     "base_uri": "https://localhost:8080/",
     "height": 327
    },
    "id": "timJHqbUblqF",
    "outputId": "ed4ae05a-4270-4392-e799-6fb36d4e12fc"
   },
   "outputs": [],
   "source": [
    "losing_df = get_bhavcopy(current_date)\n",
    "losing_df = losing_df[losing_df['SYMBOL'].isin(keep_values)]\n",
    "losing_df = losing_df[losing_df[' SERIES'].isin([' EQ'])]\n",
    "account_losing_days = losing_df[['SYMBOL']]\n",
    "\n",
    "account_losing_days['LOSING_DAYS'] = 0\n",
    "print(len(account_losing_days))\n",
    "account_losing_days.head()"
   ]
  },
  {
   "cell_type": "code",
   "execution_count": 30,
   "metadata": {
    "id": "5QUVnHkbPDJu"
   },
   "outputs": [],
   "source": [
    "# Get the current date\n",
    "current_date = datetime.now().date()\n",
    "\n",
    "# Define the number of days ago\n",
    "days_ago = 34\n",
    "\n",
    "# Calculate the date 20 days ago\n",
    "date = current_date - timedelta(days=days_ago)\n",
    "\n",
    "final_date = current_date\n",
    "\n",
    "while(date != final_date):\n",
    "  day_of_week = date.weekday()\n",
    "  if day_of_week == 5:\n",
    "    date = date + timedelta(days = 1)\n",
    "    continue\n",
    "  t = date\n",
    "  t = t.strftime(\"%d-%m-%Y\")\n",
    "\n",
    "\n",
    "  # Wrap the get_bhavcopy call in a try-except block to handle HTTPError\n",
    "  try:\n",
    "    losing_df = get_bhavcopy(t)\n",
    "  except urllib.error.HTTPError as e:\n",
    "    print(f\"Error fetching data for {t}: as NSE was closed on {date-timedelta(1)}\")  # Print error message\n",
    "    date = date + timedelta(days=1)  # Move to the next date\n",
    "    continue  # Skip to the next iteration of the loop\n",
    "\n",
    "  losing_df = losing_df[losing_df['SYMBOL'].isin(keep_values)]\n",
    "  losing_df = losing_df[losing_df[' SERIES'].isin([' EQ'])]\n",
    "  for index, row in losing_df.iterrows():\n",
    "    if row[' OPEN_PRICE'] > row[' CLOSE_PRICE']:\n",
    "        x = row['SYMBOL']\n",
    "        index = account_losing_days.index[account_losing_days['SYMBOL'] == x].tolist()[0]\n",
    "        account_losing_days.at[index, 'LOSING_DAYS'] += 1\n",
    "\n",
    "\n",
    "  date = date + timedelta(days = 1)"
   ]
  },
  {
   "cell_type": "code",
   "execution_count": null,
   "metadata": {
    "colab": {
     "base_uri": "https://localhost:8080/",
     "height": 206
    },
    "id": "MgHwV-Ccb4yf",
    "outputId": "91705dfe-ceb7-4f28-d4c9-a5fc18286f53"
   },
   "outputs": [],
   "source": [
    "account_losing_days.head()"
   ]
  },
  {
   "cell_type": "code",
   "execution_count": 32,
   "metadata": {
    "id": "g1LAJQ5fpr36"
   },
   "outputs": [],
   "source": [
    "nse_df = pd.concat([nse_df.set_index('symbol'), account_losing_days.set_index('SYMBOL')], axis = 1, join='outer').reset_index(names = 'symbol')"
   ]
  },
  {
   "cell_type": "code",
   "execution_count": 33,
   "metadata": {
    "id": "pzkJcMnWlrUT"
   },
   "outputs": [],
   "source": [
    "nse_df['52w_High'] = nse_df['52w_High'].astype(float)\n",
    "nse_df['52w_Low'] = nse_df['52w_Low'].astype(float)\n",
    "nse_df['Current_price'] = nse_df['Current_price'].astype(float)"
   ]
  },
  {
   "cell_type": "code",
   "execution_count": null,
   "metadata": {
    "colab": {
     "base_uri": "https://localhost:8080/"
    },
    "id": "8YTuweOCz4FF",
    "outputId": "9f4f1fd0-56de-425f-d320-88bc93e9f186"
   },
   "outputs": [],
   "source": [
    "nse_df['going_towards'] = np.nan\n",
    "for index, row in nse_df.iterrows():\n",
    "  high_diff = row['52w_High'] - row['Current_price']\n",
    "  low_diff = row['Current_price'] - row['52w_Low']\n",
    "\n",
    "  if (high_diff > low_diff):\n",
    "    nse_df.at[index, 'going_towards'] = \"Low\"\n",
    "  else:\n",
    "    nse_df.at[index, 'going_towards'] = \"High\""
   ]
  },
  {
   "cell_type": "code",
   "execution_count": 35,
   "metadata": {
    "id": "zTe9yfnWCgWJ"
   },
   "outputs": [],
   "source": [
    "nse_df['open'] = nse_df['open'].astype(float)\n",
    "nse_df['Current_price'] = nse_df['Current_price'].astype(float)\n",
    "nse_df['dayHigh'] = nse_df['dayHigh'].astype(float)\n",
    "nse_df['dayLow'] = nse_df['dayLow'].astype(float)\n",
    "nse_df['52w_High'] = nse_df['52w_High'].astype(float)\n",
    "nse_df['52w_Low'] = nse_df['52w_Low'].astype(float)"
   ]
  },
  {
   "cell_type": "code",
   "execution_count": null,
   "metadata": {
    "colab": {
     "base_uri": "https://localhost:8080/"
    },
    "id": "2DtLg9KrJI7m",
    "outputId": "2f53faaf-0c6f-4aa8-9ed6-40aa0714f7b8"
   },
   "outputs": [],
   "source": [
    "nse_df['change%'] = np.nan\n",
    "for index, row in nse_df.iterrows():\n",
    "  change_pc = ((row['Current_price']-row['open'])/row['open'])*100\n",
    "  change_pc = format(change_pc, \".2f\")\n",
    "  nse_df.at[index, 'change%'] = change_pc"
   ]
  },
  {
   "cell_type": "code",
   "execution_count": 37,
   "metadata": {},
   "outputs": [],
   "source": [
    "import yfinance as yf\n",
    "\n",
    "def profit_sales_analysis(ticker, parameter):\n",
    "    cases = ['000', '001', '010', '011', '100', '101', '110', '111']\n",
    "\n",
    "    try:\n",
    "        ticker = f\"{ticker}.NS\"\n",
    "        ticker_obj = yf.Ticker(ticker)\n",
    "        financials = ticker_obj.financials\n",
    "\n",
    "        y_4 = financials.iloc[financials.index.get_loc(parameter), 0]\n",
    "        y_3 = financials.iloc[financials.index.get_loc(parameter), 1]\n",
    "        y_2 = financials.iloc[financials.index.get_loc(parameter), 2]\n",
    "        y_1 = financials.iloc[financials.index.get_loc(parameter), 3]\n",
    "\n",
    "        result = \"\"\n",
    "\n",
    "        if (y_4 - y_3) > 0:\n",
    "            result += \"1\"\n",
    "        else:\n",
    "            result += \"0\"\n",
    "        \n",
    "        if (y_3 - y_2) > 0:\n",
    "            result += \"1\"\n",
    "        else:\n",
    "            result += \"0\"\n",
    "            \n",
    "        if (y_2 - y_1) > 0:\n",
    "            result += \"1\"\n",
    "        else:\n",
    "            result += \"0\"\n",
    "        \n",
    "        if result == cases[0]:\n",
    "            return \"Not Recommended\"\n",
    "        elif result == cases[1]:\n",
    "            return \"Check quarterly results\"\n",
    "        elif result == cases[2]:\n",
    "            return \"Caution need monitoring\"\n",
    "        elif result == cases[3]:\n",
    "            return \"Recommended\"\n",
    "        elif result == cases[4]:\n",
    "            return \"Not Recommended\"\n",
    "        elif result == cases[5]:\n",
    "            return \"Caution need Monitoring\"\n",
    "        elif result == cases[6]:\n",
    "            return \"Caution need Monitoring\"\n",
    "        elif result == cases[7]:\n",
    "            return \"Highly Recommended\"\n",
    "\n",
    "\n",
    "    except Exception as e:\n",
    "        #print(f\"Error fetching profit/sales data for {ticker}: {e}\")\n",
    "        return np.nan  # Return NaN if any error occurs"
   ]
  },
  {
   "cell_type": "code",
   "execution_count": 38,
   "metadata": {},
   "outputs": [],
   "source": [
    "import yfinance as yf\n",
    "\n",
    "def debt_analysis(ticker, parameter):\n",
    "    cases = ['000', '001', '010', '011', '100', '101', '110', '111']\n",
    "    \n",
    "    try:\n",
    "        ticker = f\"{ticker}.NS\"\n",
    "        ticker_obj = yf.Ticker(ticker)\n",
    "        balance_sheet = ticker_obj.balance_sheet\n",
    "\n",
    "        y_4 = balance_sheet.iloc[balance_sheet.index.get_loc(parameter), 0]\n",
    "        y_3 = balance_sheet.iloc[balance_sheet.index.get_loc(parameter), 1]\n",
    "        y_2 = balance_sheet.iloc[balance_sheet.index.get_loc(parameter), 2]\n",
    "        y_1 = balance_sheet.iloc[balance_sheet.index.get_loc(parameter), 3]\n",
    "\n",
    "        result = \"\"\n",
    "\n",
    "        if (y_4 - y_3) > 0:\n",
    "            result += \"1\"\n",
    "        else:\n",
    "            result += \"0\"\n",
    "        \n",
    "        if (y_3 - y_2) > 0:\n",
    "            result += \"1\"\n",
    "        else:\n",
    "            result += \"0\"\n",
    "            \n",
    "        if (y_2 - y_1) > 0:\n",
    "            result += \"1\"\n",
    "        else:\n",
    "            result += \"0\"\n",
    "        \n",
    "        if result == cases[0]:\n",
    "            return \"Highly Recommended\"\n",
    "        elif result == cases[1]:\n",
    "            return \"Caution need monitoring\"\n",
    "        elif result == cases[2]:\n",
    "            return \"Caution need monitoring\"\n",
    "        elif result == cases[3]:\n",
    "            return \"Not Recommended\"\n",
    "        elif result == cases[4]:\n",
    "            return \"Recommended\"\n",
    "        elif result == cases[5]:\n",
    "            return \"Caution need monitoring\"\n",
    "        elif result == cases[6]:\n",
    "            return \"Caution need Monitoring\"\n",
    "        elif result == cases[7]:\n",
    "            return \"Not Recommended\"\n",
    "\n",
    "\n",
    "    except Exception as e:\n",
    "        #print(f\"Error fetching Debt data for {ticker}: {e}\")\n",
    "        return np.nan  # Return NaN if any error occurs"
   ]
  },
  {
   "cell_type": "code",
   "execution_count": null,
   "metadata": {},
   "outputs": [],
   "source": [
    "x = np.nan\n",
    "print(np.isnan(x))"
   ]
  },
  {
   "cell_type": "code",
   "execution_count": null,
   "metadata": {},
   "outputs": [],
   "source": [
    "symbol_list = (nse_df['symbol']).tolist()\n",
    "symbol_list"
   ]
  },
  {
   "cell_type": "code",
   "execution_count": null,
   "metadata": {},
   "outputs": [],
   "source": [
    "symbol_list = (nse_df['symbol']).tolist()\n",
    "\n",
    "Profit_Analysis = []\n",
    "Sales_Analysis = []\n",
    "Debt_Analysis = []\n",
    "\n",
    "for symbol in symbol_list:\n",
    "\n",
    "    profit = profit_sales_analysis(symbol, \"EBIT\")\n",
    "    \n",
    "    if not (isinstance(profit, str)):\n",
    "        profit = profit_sales_analysis(symbol, \"Net Income\")\n",
    "        print(f\"Profit Value Changed for: {symbol}\")\n",
    "    \n",
    "    sales = profit_sales_analysis(symbol, \"Total Revenue\")\n",
    "    \n",
    "    debt = debt_analysis(symbol, \"Total Debt\")\n",
    "    \n",
    "    Profit_Analysis.append(profit)\n",
    "    Sales_Analysis.append(sales)\n",
    "    Debt_Analysis.append(debt)\n",
    "\n",
    "nse_df[\"Profit Analysis\"] = Profit_Analysis\n",
    "nse_df[\"Sales Analysis\"] = Sales_Analysis\n",
    "nse_df[\"Debt Analysis\"] = Debt_Analysis\n",
    "nse_df.head()"
   ]
  },
  {
   "cell_type": "code",
   "execution_count": null,
   "metadata": {},
   "outputs": [],
   "source": []
  },
  {
   "cell_type": "code",
   "execution_count": 42,
   "metadata": {},
   "outputs": [],
   "source": [
    "def get_company_details(ticker, detail):\n",
    "    t = f\"{ticker}.NS\"\n",
    "    t = yf.Ticker(t)\n",
    "    return t.info[detail]"
   ]
  },
  {
   "cell_type": "code",
   "execution_count": 43,
   "metadata": {},
   "outputs": [],
   "source": [
    "for index in range(181, len(nse_df)):\n",
    "    if pd.isna(nse_df.at[index, \"companyName\"]):\n",
    "        symbol = nse_df.at[index, \"symbol\"]\n",
    "                \n",
    "        # Try to get the company name (longName, fallback to shortName)\n",
    "        try:\n",
    "            name = get_company_details(symbol, \"longName\")\n",
    "        except Exception as e:\n",
    "            print(f\"Error getting longName for symbol {symbol}: {e}\")\n",
    "            try:\n",
    "                name = get_company_details(symbol, \"shortName\")\n",
    "            except Exception as e:\n",
    "                print(f\"Error getting shortName for symbol {symbol}: {e}\")\n",
    "                name = None  # Use None or a default value if both fail\n",
    "        \n",
    "        # Get industry information\n",
    "        try:\n",
    "            industry = get_company_details(symbol, \"industry\")\n",
    "        except Exception as e:\n",
    "            print(f\"Error getting industry for symbol {symbol}: {e}\")\n",
    "            industry = None  # Use None or a default value if this fails\n",
    "        \n",
    "        # Update the DataFrame\n",
    "        nse_df.at[index, \"companyName\"] = name\n",
    "        nse_df.at[index, \"industry\"] = industry\n"
   ]
  },
  {
   "cell_type": "code",
   "execution_count": null,
   "metadata": {},
   "outputs": [],
   "source": [
    "nse_df['Profit Analysis'].isna().sum()"
   ]
  },
  {
   "cell_type": "markdown",
   "metadata": {},
   "source": [
    "### News Scrapping and analysis\n"
   ]
  },
  {
   "cell_type": "markdown",
   "metadata": {},
   "source": [
    "#### Performed in Colab"
   ]
  },
  {
   "cell_type": "code",
   "execution_count": 45,
   "metadata": {},
   "outputs": [],
   "source": [
    "from selenium import webdriver\n",
    "from selenium.webdriver.common.by import By\n",
    "from selenium.webdriver.common.action_chains import ActionChains\n",
    "from selenium.webdriver.chrome.service import Service\n",
    "from selenium.webdriver.common.keys import Keys\n",
    "from selenium.webdriver.support.ui import WebDriverWait\n",
    "from selenium.webdriver.support import expected_conditions as EC\n",
    "from selenium.common.exceptions import NoSuchElementException, TimeoutException\n",
    "from selenium.webdriver.chrome.options import Options\n",
    "import time\n",
    "\n",
    "def scrape_yahoo_finance_news(symbol: str):\n",
    "    print(symbol)\n",
    "    chrome_options = Options()\n",
    "    chrome_options.add_argument(\"--headless\")\n",
    "    chrome_options.add_argument(\"--disable-gpu\")\n",
    "    chrome_options.add_argument(\"--no-sandbox\")\n",
    "    chrome_options.add_argument(\"--disable-dev-shm-usage\")  # Added to help prevent crashes\n",
    "    chrome_options.add_argument(\"--remote-debugging-port=9222\")  # Added to help with DevTools issues\n",
    "    chrome_options.add_argument(\"--disable-extensions\")  # Disable extensions\n",
    "    chrome_options.add_argument(\"--disable-software-rasterizer\")  # Reduce GPU usage\n",
    "    \n",
    "    max_retries = 3\n",
    "    for attempt in range(max_retries):\n",
    "        try:\n",
    "            driver = webdriver.Chrome(options=chrome_options)\n",
    "            url = f\"https://finance.yahoo.com/quote/{symbol}.NS/news/\"\n",
    "            \n",
    "            try:\n",
    "                driver.get(url)\n",
    "                wait = WebDriverWait(driver, 3)  # Increased timeout\n",
    "                \n",
    "                try:\n",
    "                    news_container = wait.until(EC.presence_of_element_located((By.CSS_SELECTOR, 'div[data-testid=\"news-tabs-container\"]')))\n",
    "                except TimeoutException:\n",
    "                    return f\"{symbol} - No news\"\n",
    "                \n",
    "                try:\n",
    "                    news_list = wait.until(EC.presence_of_element_located((By.CSS_SELECTOR, 'ul.stream-items.yf-1usaaz9')))\n",
    "                    news_items = news_list.find_elements(By.CSS_SELECTOR, 'li.stream-item.story-item.yf-1usaaz9')\n",
    "                    \n",
    "                    titles = []\n",
    "                    descriptions = []\n",
    "                    \n",
    "                    for item in news_items:\n",
    "                        try:\n",
    "                            title_tag = item.find_element(By.CSS_SELECTOR, 'a.subtle-link.fin-size-small.titles.noUnderline.yf-1xqzjha h3')\n",
    "                            description_tag = item.find_element(By.CSS_SELECTOR, 'a.subtle-link.fin-size-small.titles.noUnderline.yf-1xqzjha p.clamp.yf-18q3fnf')\n",
    "                            titles.append(title_tag.text)\n",
    "                            descriptions.append(description_tag.text)\n",
    "                        except NoSuchElementException:\n",
    "                            continue\n",
    "                    \n",
    "                    return titles, descriptions if titles and descriptions else f\"{symbol} - No news\"\n",
    "                \n",
    "                except TimeoutException:\n",
    "                    return f\"{symbol} - No news\"\n",
    "                \n",
    "            finally:\n",
    "                driver.quit()\n",
    "                \n",
    "        except Exception as e:\n",
    "            print(f\"Attempt {attempt + 1} failed for {symbol}: {str(e)}\")\n",
    "            if attempt == max_retries - 1:\n",
    "                return f\"{symbol} - Error: {str(e)}\"\n",
    "            time.sleep(2)  # Wait before retrying\n"
   ]
  },
  {
   "cell_type": "code",
   "execution_count": 46,
   "metadata": {},
   "outputs": [],
   "source": [
    "from textblob import TextBlob\n",
    "\n",
    "def news_analysis(news):\n",
    "    \n",
    "    # Check the input type\n",
    "    if isinstance(news, str):\n",
    "        return \"NEUTRAL\"\n",
    "\n",
    "    if not isinstance(news, tuple) or len(news) != 2:\n",
    "        raise ValueError(\"Input must be a tuple with two elements: (titles, descriptions).\")\n",
    "\n",
    "    titles, descriptions = news\n",
    "\n",
    "    if not (isinstance(titles, list) and isinstance(descriptions, list)):\n",
    "        raise ValueError(\"Both titles and descriptions must be lists.\")\n",
    "\n",
    "    if len(titles) != len(descriptions):\n",
    "        raise ValueError(\"Titles and descriptions lists must have the same length.\")\n",
    "\n",
    "    sentiment_record = {\"positive\": 0, \"negative\": 0, \"neutral\": 0}\n",
    "\n",
    "    # Perform sentiment analysis\n",
    "    for title, description in zip(titles, descriptions):\n",
    "        text = f\"{title} {description}\"\n",
    "        analysis = TextBlob(text).sentiment.polarity\n",
    "\n",
    "        if analysis > 0:\n",
    "            sentiment_record[\"positive\"] += 1\n",
    "        elif analysis < 0:\n",
    "            sentiment_record[\"negative\"] += 1\n",
    "        else:\n",
    "            sentiment_record[\"neutral\"] += 1\n",
    "\n",
    "    print(sentiment_record)\n",
    "\n",
    "    # Determine final sentiment\n",
    "    if sentiment_record[\"positive\"] > max(sentiment_record[\"negative\"], sentiment_record[\"neutral\"]):\n",
    "        return \"POSITIVE\"\n",
    "    elif sentiment_record[\"negative\"] > max(sentiment_record[\"positive\"], sentiment_record[\"neutral\"]):\n",
    "        return \"NEGATIVE\"\n",
    "    else:\n",
    "        return \"NEUTRAL\"\n",
    "\n",
    "\n"
   ]
  },
  {
   "cell_type": "code",
   "execution_count": 47,
   "metadata": {},
   "outputs": [],
   "source": [
    "symbol_list = (nse_df['symbol']).tolist()"
   ]
  },
  {
   "cell_type": "code",
   "execution_count": null,
   "metadata": {},
   "outputs": [],
   "source": [
    "NEWS = []\n",
    "\n",
    "for symbol in symbol_list:\n",
    "    try:\n",
    "        news = scrape_yahoo_finance_news(symbol)\n",
    "        result = news_analysis(news)\n",
    "        NEWS.append(result)\n",
    "        time.sleep(1)  # Add delay between requests\n",
    "    except Exception as e:\n",
    "        print(f\"Error processing {symbol}: {str(e)}\")\n",
    "        NEWS.append(\"NEUTRAL\")  # Default fallback"
   ]
  },
  {
   "cell_type": "markdown",
   "metadata": {},
   "source": [
    "#### Continue Here"
   ]
  },
  {
   "cell_type": "code",
   "execution_count": null,
   "metadata": {},
   "outputs": [],
   "source": [
    "nse_df[\"News\"] = NEWS\n",
    "nse_df.head()"
   ]
  },
  {
   "cell_type": "code",
   "execution_count": null,
   "metadata": {},
   "outputs": [],
   "source": [
    "nse_df.head()"
   ]
  },
  {
   "cell_type": "code",
   "execution_count": null,
   "metadata": {
    "colab": {
     "base_uri": "https://localhost:8080/"
    },
    "id": "3RheWN59AvCn",
    "outputId": "3decb93c-f8a1-42cf-a4b4-09b8ea8f2933"
   },
   "outputs": [],
   "source": [
    "# Downloading the above data as excel sheet\n",
    "\n",
    "file_path = \" Today's_data.xlsx\"\n",
    "date = datetime.now().date()\n",
    "date = date.strftime(\"%d-%m-%Y\")\n",
    "file_path = date + file_path\n",
    "nse_df.to_excel(file_path, index = False)\n",
    "print(\"File downloaded\")"
   ]
  },
  {
   "cell_type": "code",
   "execution_count": null,
   "metadata": {},
   "outputs": [],
   "source": []
  }
 ],
 "metadata": {
  "colab": {
   "provenance": []
  },
  "kernelspec": {
   "display_name": "Python 3",
   "language": "python",
   "name": "python3"
  },
  "language_info": {
   "codemirror_mode": {
    "name": "ipython",
    "version": 3
   },
   "file_extension": ".py",
   "mimetype": "text/x-python",
   "name": "python",
   "nbconvert_exporter": "python",
   "pygments_lexer": "ipython3",
   "version": "3.11.9"
  }
 },
 "nbformat": 4,
 "nbformat_minor": 0
}
